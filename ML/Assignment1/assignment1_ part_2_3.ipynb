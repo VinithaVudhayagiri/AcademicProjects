{
 "cells": [
  {
   "cell_type": "code",
   "execution_count": 1,
   "id": "9e158f7a",
   "metadata": {},
   "outputs": [],
   "source": [
    "# Import required libraries\n",
    "import pandas as pd\n",
    "import numpy as np\n",
    "import matplotlib.pyplot as plt\n",
    "import seaborn as sns\n",
    "import pickle"
   ]
  },
  {
   "cell_type": "code",
   "execution_count": 2,
   "id": "89922a17",
   "metadata": {},
   "outputs": [],
   "source": [
    "src_df = pd.read_csv('diamond.csv')"
   ]
  },
  {
   "cell_type": "code",
   "execution_count": 3,
   "id": "14a61dc9",
   "metadata": {},
   "outputs": [
    {
     "data": {
      "text/plain": [
       "(53940, 11)"
      ]
     },
     "execution_count": 3,
     "metadata": {},
     "output_type": "execute_result"
    }
   ],
   "source": [
    "src_df.shape"
   ]
  },
  {
   "cell_type": "code",
   "execution_count": 4,
   "id": "5e2c40c3",
   "metadata": {},
   "outputs": [],
   "source": [
    "src_df.drop(columns=['Unnamed: 0'],inplace=True)"
   ]
  },
  {
   "cell_type": "markdown",
   "id": "c10f5c92",
   "metadata": {},
   "source": [
    "### Read, preprocess and print the main statistic about the dataset (your code from Part I can be reused)."
   ]
  },
  {
   "cell_type": "code",
   "execution_count": 5,
   "id": "11ff26b6",
   "metadata": {},
   "outputs": [
    {
     "data": {
      "text/html": [
       "<div>\n",
       "<style scoped>\n",
       "    .dataframe tbody tr th:only-of-type {\n",
       "        vertical-align: middle;\n",
       "    }\n",
       "\n",
       "    .dataframe tbody tr th {\n",
       "        vertical-align: top;\n",
       "    }\n",
       "\n",
       "    .dataframe thead th {\n",
       "        text-align: right;\n",
       "    }\n",
       "</style>\n",
       "<table border=\"1\" class=\"dataframe\">\n",
       "  <thead>\n",
       "    <tr style=\"text-align: right;\">\n",
       "      <th></th>\n",
       "      <th>carat</th>\n",
       "      <th>depth</th>\n",
       "      <th>table</th>\n",
       "      <th>price</th>\n",
       "      <th>x</th>\n",
       "      <th>y</th>\n",
       "      <th>z</th>\n",
       "    </tr>\n",
       "  </thead>\n",
       "  <tbody>\n",
       "    <tr>\n",
       "      <th>count</th>\n",
       "      <td>53940.000000</td>\n",
       "      <td>53940.000000</td>\n",
       "      <td>53940.000000</td>\n",
       "      <td>53940.000000</td>\n",
       "      <td>53940.000000</td>\n",
       "      <td>53940.000000</td>\n",
       "      <td>53940.000000</td>\n",
       "    </tr>\n",
       "    <tr>\n",
       "      <th>mean</th>\n",
       "      <td>0.797940</td>\n",
       "      <td>61.749405</td>\n",
       "      <td>57.457184</td>\n",
       "      <td>3932.799722</td>\n",
       "      <td>5.731157</td>\n",
       "      <td>5.734526</td>\n",
       "      <td>3.538734</td>\n",
       "    </tr>\n",
       "    <tr>\n",
       "      <th>std</th>\n",
       "      <td>0.474011</td>\n",
       "      <td>1.432621</td>\n",
       "      <td>2.234491</td>\n",
       "      <td>3989.439738</td>\n",
       "      <td>1.121761</td>\n",
       "      <td>1.142135</td>\n",
       "      <td>0.705699</td>\n",
       "    </tr>\n",
       "    <tr>\n",
       "      <th>min</th>\n",
       "      <td>0.200000</td>\n",
       "      <td>43.000000</td>\n",
       "      <td>43.000000</td>\n",
       "      <td>326.000000</td>\n",
       "      <td>0.000000</td>\n",
       "      <td>0.000000</td>\n",
       "      <td>0.000000</td>\n",
       "    </tr>\n",
       "    <tr>\n",
       "      <th>25%</th>\n",
       "      <td>0.400000</td>\n",
       "      <td>61.000000</td>\n",
       "      <td>56.000000</td>\n",
       "      <td>950.000000</td>\n",
       "      <td>4.710000</td>\n",
       "      <td>4.720000</td>\n",
       "      <td>2.910000</td>\n",
       "    </tr>\n",
       "    <tr>\n",
       "      <th>50%</th>\n",
       "      <td>0.700000</td>\n",
       "      <td>61.800000</td>\n",
       "      <td>57.000000</td>\n",
       "      <td>2401.000000</td>\n",
       "      <td>5.700000</td>\n",
       "      <td>5.710000</td>\n",
       "      <td>3.530000</td>\n",
       "    </tr>\n",
       "    <tr>\n",
       "      <th>75%</th>\n",
       "      <td>1.040000</td>\n",
       "      <td>62.500000</td>\n",
       "      <td>59.000000</td>\n",
       "      <td>5324.250000</td>\n",
       "      <td>6.540000</td>\n",
       "      <td>6.540000</td>\n",
       "      <td>4.040000</td>\n",
       "    </tr>\n",
       "    <tr>\n",
       "      <th>max</th>\n",
       "      <td>5.010000</td>\n",
       "      <td>79.000000</td>\n",
       "      <td>95.000000</td>\n",
       "      <td>18823.000000</td>\n",
       "      <td>10.740000</td>\n",
       "      <td>58.900000</td>\n",
       "      <td>31.800000</td>\n",
       "    </tr>\n",
       "  </tbody>\n",
       "</table>\n",
       "</div>"
      ],
      "text/plain": [
       "              carat         depth         table         price             x  \\\n",
       "count  53940.000000  53940.000000  53940.000000  53940.000000  53940.000000   \n",
       "mean       0.797940     61.749405     57.457184   3932.799722      5.731157   \n",
       "std        0.474011      1.432621      2.234491   3989.439738      1.121761   \n",
       "min        0.200000     43.000000     43.000000    326.000000      0.000000   \n",
       "25%        0.400000     61.000000     56.000000    950.000000      4.710000   \n",
       "50%        0.700000     61.800000     57.000000   2401.000000      5.700000   \n",
       "75%        1.040000     62.500000     59.000000   5324.250000      6.540000   \n",
       "max        5.010000     79.000000     95.000000  18823.000000     10.740000   \n",
       "\n",
       "                  y             z  \n",
       "count  53940.000000  53940.000000  \n",
       "mean       5.734526      3.538734  \n",
       "std        1.142135      0.705699  \n",
       "min        0.000000      0.000000  \n",
       "25%        4.720000      2.910000  \n",
       "50%        5.710000      3.530000  \n",
       "75%        6.540000      4.040000  \n",
       "max       58.900000     31.800000  "
      ]
     },
     "execution_count": 5,
     "metadata": {},
     "output_type": "execute_result"
    }
   ],
   "source": [
    "src_df.describe()"
   ]
  },
  {
   "cell_type": "markdown",
   "id": "b37f73fb",
   "metadata": {},
   "source": [
    "### Using any data visualization library (e.g. matplotlib, seaborn, plotly), provide at least 5 visualization graphs related to your dataset. You can utilize any columns or a combination of columns in your dataset to generate graphs. E.g. correlation matrix, features vs. the target, counts of categorical features vs. the target."
   ]
  },
  {
   "cell_type": "markdown",
   "id": "c702564e",
   "metadata": {},
   "source": [
    "##### Creating a heat map between the numerical data"
   ]
  },
  {
   "cell_type": "code",
   "execution_count": 6,
   "id": "ddb6e9c8",
   "metadata": {},
   "outputs": [
    {
     "data": {
      "text/plain": [
       "<AxesSubplot:>"
      ]
     },
     "execution_count": 6,
     "metadata": {},
     "output_type": "execute_result"
    },
    {
     "data": {
      "image/png": "[encoded data removed]",
      "text/plain": [
       "<Figure size 432x288 with 2 Axes>"
      ]
     },
     "metadata": {
      "needs_background": "light"
     },
     "output_type": "display_data"
    }
   ],
   "source": [
    "sns.heatmap(src_df.corr(), \n",
    "        xticklabels=src_df.corr().columns,\n",
    "        yticklabels=src_df.corr().columns)"
   ]
  },
  {
   "cell_type": "markdown",
   "id": "082b95f8",
   "metadata": {},
   "source": [
    "##### Checking the impact of carat on price"
   ]
  },
  {
   "cell_type": "code",
   "execution_count": 7,
   "id": "c2a27090",
   "metadata": {},
   "outputs": [
    {
     "data": {
      "image/png": "[encoded data removed]",
      "text/plain": [
       "<Figure size 432x288 with 1 Axes>"
      ]
     },
     "metadata": {
      "needs_background": "light"
     },
     "output_type": "display_data"
    }
   ],
   "source": [
    "plt.plot(src_df['carat'],src_df['price'])\n",
    "plt.title('Effect of carat on price')\n",
    "plt.xlabel('carat')\n",
    "plt.ylabel('Price')\n",
    "plt.show()"
   ]
  },
  {
   "cell_type": "markdown",
   "id": "48f227aa",
   "metadata": {},
   "source": [
    "##### creating a bar graph to count the number of filghts per airline company"
   ]
  },
  {
   "cell_type": "code",
   "execution_count": 8,
   "id": "3938c93e",
   "metadata": {},
   "outputs": [
    {
     "data": {
      "image/png": "[encoded data removed]",
      "text/plain": [
       "<Figure size 576x360 with 1 Axes>"
      ]
     },
     "metadata": {
      "needs_background": "light"
     },
     "output_type": "display_data"
    }
   ],
   "source": [
    "plt.figure(figsize=(8,5))\n",
    "sns.countplot(x=src_df['clarity'],palette='hls')\n",
    "plt.title('Clarity Count',fontsize=12)\n",
    "plt.xlabel('Clarity',fontsize=15)\n",
    "plt.ylabel('Count',fontsize=15)\n",
    "plt.show()"
   ]
  },
  {
   "cell_type": "markdown",
   "id": "70e0d6c5",
   "metadata": {},
   "source": [
    "##### Using pie chart to find the percentage of customers travelling to a destination"
   ]
  },
  {
   "cell_type": "code",
   "execution_count": 9,
   "id": "185a9909",
   "metadata": {},
   "outputs": [
    {
     "data": {
      "image/png": "[encoded data removed]",
      "text/plain": [
       "<Figure size 432x288 with 1 Axes>"
      ]
     },
     "metadata": {},
     "output_type": "display_data"
    }
   ],
   "source": [
    "colors = ['gold', 'skyblue', 'red', 'orange','yellow']\n",
    "\n",
    "plt.pie(src_df['cut'].value_counts(), labels=src_df['cut'].unique(), colors=colors, autopct='%1.1f%%')\n",
    "\n",
    "plt.title('Diffrent proportions of cuts')\n",
    "plt.show()"
   ]
  },
  {
   "cell_type": "markdown",
   "id": "d84c55f7",
   "metadata": {},
   "source": [
    "#### Using violin graph to compare the price of the ticket based on cut"
   ]
  },
  {
   "cell_type": "code",
   "execution_count": 10,
   "id": "624a7470",
   "metadata": {},
   "outputs": [
    {
     "data": {
      "text/plain": [
       "<AxesSubplot:xlabel='cut', ylabel='price'>"
      ]
     },
     "execution_count": 10,
     "metadata": {},
     "output_type": "execute_result"
    },
    {
     "data": {
      "image/png": "[encoded data removed]",
      "text/plain": [
       "<Figure size 432x288 with 1 Axes>"
      ]
     },
     "metadata": {
      "needs_background": "light"
     },
     "output_type": "display_data"
    }
   ],
   "source": [
    "sns.violinplot(x='cut', y='price', data=src_df)"
   ]
  },
  {
   "cell_type": "code",
   "execution_count": 11,
   "id": "8de8b58f",
   "metadata": {},
   "outputs": [
    {
     "name": "stdout",
     "output_type": "stream",
     "text": [
      "<class 'pandas.core.frame.DataFrame'>\n",
      "RangeIndex: 53940 entries, 0 to 53939\n",
      "Data columns (total 10 columns):\n",
      " #   Column   Non-Null Count  Dtype  \n",
      "---  ------   --------------  -----  \n",
      " 0   carat    53940 non-null  float64\n",
      " 1   cut      53940 non-null  object \n",
      " 2   color    53940 non-null  object \n",
      " 3   clarity  53940 non-null  object \n",
      " 4   depth    53940 non-null  float64\n",
      " 5   table    53940 non-null  float64\n",
      " 6   price    53940 non-null  int64  \n",
      " 7   x        53940 non-null  float64\n",
      " 8   y        53940 non-null  float64\n",
      " 9   z        53940 non-null  float64\n",
      "dtypes: float64(6), int64(1), object(3)\n",
      "memory usage: 4.1+ MB\n"
     ]
    }
   ],
   "source": [
    "src_df.info()"
   ]
  },
  {
   "cell_type": "markdown",
   "id": "f00870d5",
   "metadata": {},
   "source": [
    "### Convert features with string datatype to categorical and normalize noncategorical features if needed"
   ]
  },
  {
   "cell_type": "code",
   "execution_count": 12,
   "id": "847c3498",
   "metadata": {},
   "outputs": [
    {
     "name": "stdout",
     "output_type": "stream",
     "text": [
      "{'Fair': 0, 'Good': 1, 'Ideal': 2, 'Premium': 3, 'Very Good': 4}\n"
     ]
    }
   ],
   "source": [
    "cut_conversion = {}\n",
    "distinct_cut = list(src_df['cut'].sort_values().unique())\n",
    "for i in distinct_cut:\n",
    "    cut_conversion[i] = distinct_cut.index(i)\n",
    "print(cut_conversion)"
   ]
  },
  {
   "cell_type": "code",
   "execution_count": 13,
   "id": "1377d21f",
   "metadata": {},
   "outputs": [
    {
     "name": "stdout",
     "output_type": "stream",
     "text": [
      "{'D': 0, 'E': 1, 'F': 2, 'G': 3, 'H': 4, 'I': 5, 'J': 6}\n"
     ]
    }
   ],
   "source": [
    "color_conversion = {}\n",
    "distinct_color = list(src_df['color'].sort_values().unique())\n",
    "for i in distinct_color:\n",
    "    color_conversion[i] = distinct_color.index(i)\n",
    "print(color_conversion)"
   ]
  },
  {
   "cell_type": "code",
   "execution_count": 14,
   "id": "0c14e86a",
   "metadata": {},
   "outputs": [
    {
     "name": "stdout",
     "output_type": "stream",
     "text": [
      "{'I1': 0, 'IF': 1, 'SI1': 2, 'SI2': 3, 'VS1': 4, 'VS2': 5, 'VVS1': 6, 'VVS2': 7}\n"
     ]
    }
   ],
   "source": [
    "clarity_conversion = {}\n",
    "distinct_clarity = list(src_df['clarity'].sort_values().unique())\n",
    "for i in distinct_clarity:\n",
    "    clarity_conversion[i] = distinct_clarity.index(i)\n",
    "print(clarity_conversion)"
   ]
  },
  {
   "cell_type": "code",
   "execution_count": 15,
   "id": "560fdef0",
   "metadata": {},
   "outputs": [],
   "source": [
    "src_df.replace({'cut' : cut_conversion}, inplace=True)\n",
    "src_df.replace({'clarity' : clarity_conversion}, inplace=True)\n",
    "src_df.replace({'color' : color_conversion}, inplace=True)"
   ]
  },
  {
   "cell_type": "code",
   "execution_count": 16,
   "id": "d2e552dd",
   "metadata": {
    "scrolled": true
   },
   "outputs": [
    {
     "data": {
      "text/html": [
       "<div>\n",
       "<style scoped>\n",
       "    .dataframe tbody tr th:only-of-type {\n",
       "        vertical-align: middle;\n",
       "    }\n",
       "\n",
       "    .dataframe tbody tr th {\n",
       "        vertical-align: top;\n",
       "    }\n",
       "\n",
       "    .dataframe thead th {\n",
       "        text-align: right;\n",
       "    }\n",
       "</style>\n",
       "<table border=\"1\" class=\"dataframe\">\n",
       "  <thead>\n",
       "    <tr style=\"text-align: right;\">\n",
       "      <th></th>\n",
       "      <th>carat</th>\n",
       "      <th>cut</th>\n",
       "      <th>color</th>\n",
       "      <th>clarity</th>\n",
       "      <th>depth</th>\n",
       "      <th>table</th>\n",
       "      <th>price</th>\n",
       "      <th>x</th>\n",
       "      <th>y</th>\n",
       "      <th>z</th>\n",
       "    </tr>\n",
       "  </thead>\n",
       "  <tbody>\n",
       "    <tr>\n",
       "      <th>carat</th>\n",
       "      <td>1.000000</td>\n",
       "      <td>0.017124</td>\n",
       "      <td>0.291437</td>\n",
       "      <td>-0.214290</td>\n",
       "      <td>0.028224</td>\n",
       "      <td>0.181618</td>\n",
       "      <td>0.921591</td>\n",
       "      <td>0.975094</td>\n",
       "      <td>0.951722</td>\n",
       "      <td>0.953387</td>\n",
       "    </tr>\n",
       "    <tr>\n",
       "      <th>cut</th>\n",
       "      <td>0.017124</td>\n",
       "      <td>1.000000</td>\n",
       "      <td>0.000304</td>\n",
       "      <td>0.028235</td>\n",
       "      <td>-0.194249</td>\n",
       "      <td>0.150327</td>\n",
       "      <td>0.039860</td>\n",
       "      <td>0.022342</td>\n",
       "      <td>0.027572</td>\n",
       "      <td>0.002037</td>\n",
       "    </tr>\n",
       "    <tr>\n",
       "      <th>color</th>\n",
       "      <td>0.291437</td>\n",
       "      <td>0.000304</td>\n",
       "      <td>1.000000</td>\n",
       "      <td>-0.027795</td>\n",
       "      <td>0.047279</td>\n",
       "      <td>0.026465</td>\n",
       "      <td>0.172511</td>\n",
       "      <td>0.270287</td>\n",
       "      <td>0.263584</td>\n",
       "      <td>0.268227</td>\n",
       "    </tr>\n",
       "    <tr>\n",
       "      <th>clarity</th>\n",
       "      <td>-0.214290</td>\n",
       "      <td>0.028235</td>\n",
       "      <td>-0.027795</td>\n",
       "      <td>1.000000</td>\n",
       "      <td>-0.053080</td>\n",
       "      <td>-0.088223</td>\n",
       "      <td>-0.071535</td>\n",
       "      <td>-0.225721</td>\n",
       "      <td>-0.217616</td>\n",
       "      <td>-0.224263</td>\n",
       "    </tr>\n",
       "    <tr>\n",
       "      <th>depth</th>\n",
       "      <td>0.028224</td>\n",
       "      <td>-0.194249</td>\n",
       "      <td>0.047279</td>\n",
       "      <td>-0.053080</td>\n",
       "      <td>1.000000</td>\n",
       "      <td>-0.295779</td>\n",
       "      <td>-0.010647</td>\n",
       "      <td>-0.025289</td>\n",
       "      <td>-0.029341</td>\n",
       "      <td>0.094924</td>\n",
       "    </tr>\n",
       "    <tr>\n",
       "      <th>table</th>\n",
       "      <td>0.181618</td>\n",
       "      <td>0.150327</td>\n",
       "      <td>0.026465</td>\n",
       "      <td>-0.088223</td>\n",
       "      <td>-0.295779</td>\n",
       "      <td>1.000000</td>\n",
       "      <td>0.127134</td>\n",
       "      <td>0.195344</td>\n",
       "      <td>0.183760</td>\n",
       "      <td>0.150929</td>\n",
       "    </tr>\n",
       "    <tr>\n",
       "      <th>price</th>\n",
       "      <td>0.921591</td>\n",
       "      <td>0.039860</td>\n",
       "      <td>0.172511</td>\n",
       "      <td>-0.071535</td>\n",
       "      <td>-0.010647</td>\n",
       "      <td>0.127134</td>\n",
       "      <td>1.000000</td>\n",
       "      <td>0.884435</td>\n",
       "      <td>0.865421</td>\n",
       "      <td>0.861249</td>\n",
       "    </tr>\n",
       "    <tr>\n",
       "      <th>x</th>\n",
       "      <td>0.975094</td>\n",
       "      <td>0.022342</td>\n",
       "      <td>0.270287</td>\n",
       "      <td>-0.225721</td>\n",
       "      <td>-0.025289</td>\n",
       "      <td>0.195344</td>\n",
       "      <td>0.884435</td>\n",
       "      <td>1.000000</td>\n",
       "      <td>0.974701</td>\n",
       "      <td>0.970772</td>\n",
       "    </tr>\n",
       "    <tr>\n",
       "      <th>y</th>\n",
       "      <td>0.951722</td>\n",
       "      <td>0.027572</td>\n",
       "      <td>0.263584</td>\n",
       "      <td>-0.217616</td>\n",
       "      <td>-0.029341</td>\n",
       "      <td>0.183760</td>\n",
       "      <td>0.865421</td>\n",
       "      <td>0.974701</td>\n",
       "      <td>1.000000</td>\n",
       "      <td>0.952006</td>\n",
       "    </tr>\n",
       "    <tr>\n",
       "      <th>z</th>\n",
       "      <td>0.953387</td>\n",
       "      <td>0.002037</td>\n",
       "      <td>0.268227</td>\n",
       "      <td>-0.224263</td>\n",
       "      <td>0.094924</td>\n",
       "      <td>0.150929</td>\n",
       "      <td>0.861249</td>\n",
       "      <td>0.970772</td>\n",
       "      <td>0.952006</td>\n",
       "      <td>1.000000</td>\n",
       "    </tr>\n",
       "  </tbody>\n",
       "</table>\n",
       "</div>"
      ],
      "text/plain": [
       "            carat       cut     color   clarity     depth     table     price  \\\n",
       "carat    1.000000  0.017124  0.291437 -0.214290  0.028224  0.181618  0.921591   \n",
       "cut      0.017124  1.000000  0.000304  0.028235 -0.194249  0.150327  0.039860   \n",
       "color    0.291437  0.000304  1.000000 -0.027795  0.047279  0.026465  0.172511   \n",
       "clarity -0.214290  0.028235 -0.027795  1.000000 -0.053080 -0.088223 -0.071535   \n",
       "depth    0.028224 -0.194249  0.047279 -0.053080  1.000000 -0.295779 -0.010647   \n",
       "table    0.181618  0.150327  0.026465 -0.088223 -0.295779  1.000000  0.127134   \n",
       "price    0.921591  0.039860  0.172511 -0.071535 -0.010647  0.127134  1.000000   \n",
       "x        0.975094  0.022342  0.270287 -0.225721 -0.025289  0.195344  0.884435   \n",
       "y        0.951722  0.027572  0.263584 -0.217616 -0.029341  0.183760  0.865421   \n",
       "z        0.953387  0.002037  0.268227 -0.224263  0.094924  0.150929  0.861249   \n",
       "\n",
       "                x         y         z  \n",
       "carat    0.975094  0.951722  0.953387  \n",
       "cut      0.022342  0.027572  0.002037  \n",
       "color    0.270287  0.263584  0.268227  \n",
       "clarity -0.225721 -0.217616 -0.224263  \n",
       "depth   -0.025289 -0.029341  0.094924  \n",
       "table    0.195344  0.183760  0.150929  \n",
       "price    0.884435  0.865421  0.861249  \n",
       "x        1.000000  0.974701  0.970772  \n",
       "y        0.974701  1.000000  0.952006  \n",
       "z        0.970772  0.952006  1.000000  "
      ]
     },
     "execution_count": 16,
     "metadata": {},
     "output_type": "execute_result"
    }
   ],
   "source": [
    "src_df.corr()"
   ]
  },
  {
   "cell_type": "code",
   "execution_count": 17,
   "id": "2721d8da",
   "metadata": {},
   "outputs": [],
   "source": [
    "# Dropping depth and table as they does not impact the price much\n",
    "drop_columns = ['cut','color','clarity','depth','table']\n",
    "src_df.drop(columns = drop_columns,inplace=True)"
   ]
  },
  {
   "cell_type": "code",
   "execution_count": 18,
   "id": "341fdbba",
   "metadata": {},
   "outputs": [
    {
     "data": {
      "text/html": [
       "<div>\n",
       "<style scoped>\n",
       "    .dataframe tbody tr th:only-of-type {\n",
       "        vertical-align: middle;\n",
       "    }\n",
       "\n",
       "    .dataframe tbody tr th {\n",
       "        vertical-align: top;\n",
       "    }\n",
       "\n",
       "    .dataframe thead th {\n",
       "        text-align: right;\n",
       "    }\n",
       "</style>\n",
       "<table border=\"1\" class=\"dataframe\">\n",
       "  <thead>\n",
       "    <tr style=\"text-align: right;\">\n",
       "      <th></th>\n",
       "      <th>carat</th>\n",
       "      <th>price</th>\n",
       "      <th>x</th>\n",
       "      <th>y</th>\n",
       "      <th>z</th>\n",
       "    </tr>\n",
       "  </thead>\n",
       "  <tbody>\n",
       "    <tr>\n",
       "      <th>0</th>\n",
       "      <td>0.045908</td>\n",
       "      <td>0.017319</td>\n",
       "      <td>0.367784</td>\n",
       "      <td>0.067572</td>\n",
       "      <td>0.076415</td>\n",
       "    </tr>\n",
       "    <tr>\n",
       "      <th>1</th>\n",
       "      <td>0.041916</td>\n",
       "      <td>0.017319</td>\n",
       "      <td>0.362197</td>\n",
       "      <td>0.065195</td>\n",
       "      <td>0.072642</td>\n",
       "    </tr>\n",
       "    <tr>\n",
       "      <th>2</th>\n",
       "      <td>0.045908</td>\n",
       "      <td>0.017372</td>\n",
       "      <td>0.377095</td>\n",
       "      <td>0.069100</td>\n",
       "      <td>0.072642</td>\n",
       "    </tr>\n",
       "    <tr>\n",
       "      <th>3</th>\n",
       "      <td>0.057884</td>\n",
       "      <td>0.017744</td>\n",
       "      <td>0.391061</td>\n",
       "      <td>0.071817</td>\n",
       "      <td>0.082704</td>\n",
       "    </tr>\n",
       "    <tr>\n",
       "      <th>4</th>\n",
       "      <td>0.061876</td>\n",
       "      <td>0.017797</td>\n",
       "      <td>0.404097</td>\n",
       "      <td>0.073854</td>\n",
       "      <td>0.086478</td>\n",
       "    </tr>\n",
       "    <tr>\n",
       "      <th>...</th>\n",
       "      <td>...</td>\n",
       "      <td>...</td>\n",
       "      <td>...</td>\n",
       "      <td>...</td>\n",
       "      <td>...</td>\n",
       "    </tr>\n",
       "    <tr>\n",
       "      <th>53935</th>\n",
       "      <td>0.143713</td>\n",
       "      <td>0.146470</td>\n",
       "      <td>0.535382</td>\n",
       "      <td>0.097793</td>\n",
       "      <td>0.110063</td>\n",
       "    </tr>\n",
       "    <tr>\n",
       "      <th>53936</th>\n",
       "      <td>0.143713</td>\n",
       "      <td>0.146470</td>\n",
       "      <td>0.529795</td>\n",
       "      <td>0.097623</td>\n",
       "      <td>0.113522</td>\n",
       "    </tr>\n",
       "    <tr>\n",
       "      <th>53937</th>\n",
       "      <td>0.139721</td>\n",
       "      <td>0.146470</td>\n",
       "      <td>0.527002</td>\n",
       "      <td>0.096435</td>\n",
       "      <td>0.111950</td>\n",
       "    </tr>\n",
       "    <tr>\n",
       "      <th>53938</th>\n",
       "      <td>0.171657</td>\n",
       "      <td>0.146470</td>\n",
       "      <td>0.572626</td>\n",
       "      <td>0.103905</td>\n",
       "      <td>0.117610</td>\n",
       "    </tr>\n",
       "    <tr>\n",
       "      <th>53939</th>\n",
       "      <td>0.149701</td>\n",
       "      <td>0.146470</td>\n",
       "      <td>0.542831</td>\n",
       "      <td>0.099660</td>\n",
       "      <td>0.114465</td>\n",
       "    </tr>\n",
       "  </tbody>\n",
       "</table>\n",
       "<p>53940 rows × 5 columns</p>\n",
       "</div>"
      ],
      "text/plain": [
       "          carat     price         x         y         z\n",
       "0      0.045908  0.017319  0.367784  0.067572  0.076415\n",
       "1      0.041916  0.017319  0.362197  0.065195  0.072642\n",
       "2      0.045908  0.017372  0.377095  0.069100  0.072642\n",
       "3      0.057884  0.017744  0.391061  0.071817  0.082704\n",
       "4      0.061876  0.017797  0.404097  0.073854  0.086478\n",
       "...         ...       ...       ...       ...       ...\n",
       "53935  0.143713  0.146470  0.535382  0.097793  0.110063\n",
       "53936  0.143713  0.146470  0.529795  0.097623  0.113522\n",
       "53937  0.139721  0.146470  0.527002  0.096435  0.111950\n",
       "53938  0.171657  0.146470  0.572626  0.103905  0.117610\n",
       "53939  0.149701  0.146470  0.542831  0.099660  0.114465\n",
       "\n",
       "[53940 rows x 5 columns]"
      ]
     },
     "metadata": {},
     "output_type": "display_data"
    }
   ],
   "source": [
    "src_df = src_df.copy()\n",
    "  \n",
    "for column in src_df.columns:\n",
    "    src_df[column] = src_df[column]  / src_df[column].abs().max()\n",
    "      \n",
    "display(src_df)"
   ]
  },
  {
   "cell_type": "markdown",
   "id": "061b30fa",
   "metadata": {},
   "source": [
    "### Choose your target Y.\n",
    "### Create the data matrices for X (input) and Y (target) in a shape X = 𝑁 x 𝑑 and Y = 𝑁 x 1, where 𝑁 is a number of data samples and 𝑑 is a number of features.\n",
    "### Divide the dataset into training and test, as 80% training, 20% testing dataset."
   ]
  },
  {
   "cell_type": "code",
   "execution_count": 19,
   "id": "07ccf49c",
   "metadata": {},
   "outputs": [],
   "source": [
    "msk = np.random.rand(len(src_df)) < 0.8\n",
    "\n",
    "train = src_df[msk]\n",
    "test = src_df[~msk]"
   ]
  },
  {
   "cell_type": "code",
   "execution_count": 20,
   "id": "c4d3f54e",
   "metadata": {},
   "outputs": [],
   "source": [
    "x_train,y_train,x_test,y_test = train.drop('price',axis=1),train['price'],test.drop('price',axis=1),test['price']"
   ]
  },
  {
   "cell_type": "code",
   "execution_count": 21,
   "id": "2f201a00",
   "metadata": {},
   "outputs": [
    {
     "name": "stdout",
     "output_type": "stream",
     "text": [
      "(43284, 4)\n",
      "(43284,)\n"
     ]
    }
   ],
   "source": [
    "print(x_train.shape)\n",
    "print(y_train.shape)"
   ]
  },
  {
   "cell_type": "markdown",
   "id": "1bce9e7d",
   "metadata": {},
   "source": [
    "### Print the shape of your X_train, y_train, X_test, y_test."
   ]
  },
  {
   "cell_type": "code",
   "execution_count": 22,
   "id": "a5522f44",
   "metadata": {},
   "outputs": [
    {
     "name": "stdout",
     "output_type": "stream",
     "text": [
      "(10656, 4)\n",
      "(10656,)\n"
     ]
    }
   ],
   "source": [
    "print(x_test.shape)\n",
    "print(y_test.shape)"
   ]
  },
  {
   "cell_type": "code",
   "execution_count": 23,
   "id": "463e6dc8",
   "metadata": {},
   "outputs": [
    {
     "data": {
      "text/html": [
       "<div>\n",
       "<style scoped>\n",
       "    .dataframe tbody tr th:only-of-type {\n",
       "        vertical-align: middle;\n",
       "    }\n",
       "\n",
       "    .dataframe tbody tr th {\n",
       "        vertical-align: top;\n",
       "    }\n",
       "\n",
       "    .dataframe thead th {\n",
       "        text-align: right;\n",
       "    }\n",
       "</style>\n",
       "<table border=\"1\" class=\"dataframe\">\n",
       "  <thead>\n",
       "    <tr style=\"text-align: right;\">\n",
       "      <th></th>\n",
       "      <th>carat</th>\n",
       "      <th>x</th>\n",
       "      <th>y</th>\n",
       "      <th>z</th>\n",
       "    </tr>\n",
       "  </thead>\n",
       "  <tbody>\n",
       "    <tr>\n",
       "      <th>0</th>\n",
       "      <td>0.045908</td>\n",
       "      <td>0.367784</td>\n",
       "      <td>0.067572</td>\n",
       "      <td>0.076415</td>\n",
       "    </tr>\n",
       "    <tr>\n",
       "      <th>14</th>\n",
       "      <td>0.039920</td>\n",
       "      <td>0.352886</td>\n",
       "      <td>0.063667</td>\n",
       "      <td>0.071384</td>\n",
       "    </tr>\n",
       "    <tr>\n",
       "      <th>26</th>\n",
       "      <td>0.047904</td>\n",
       "      <td>0.369646</td>\n",
       "      <td>0.066893</td>\n",
       "      <td>0.077673</td>\n",
       "    </tr>\n",
       "    <tr>\n",
       "      <th>29</th>\n",
       "      <td>0.045908</td>\n",
       "      <td>0.368715</td>\n",
       "      <td>0.067742</td>\n",
       "      <td>0.076101</td>\n",
       "    </tr>\n",
       "    <tr>\n",
       "      <th>36</th>\n",
       "      <td>0.045908</td>\n",
       "      <td>0.356611</td>\n",
       "      <td>0.065365</td>\n",
       "      <td>0.077358</td>\n",
       "    </tr>\n",
       "    <tr>\n",
       "      <th>...</th>\n",
       "      <td>...</td>\n",
       "      <td>...</td>\n",
       "      <td>...</td>\n",
       "      <td>...</td>\n",
       "    </tr>\n",
       "    <tr>\n",
       "      <th>53918</th>\n",
       "      <td>0.151697</td>\n",
       "      <td>0.552142</td>\n",
       "      <td>0.099321</td>\n",
       "      <td>0.109748</td>\n",
       "    </tr>\n",
       "    <tr>\n",
       "      <th>53920</th>\n",
       "      <td>0.139721</td>\n",
       "      <td>0.518622</td>\n",
       "      <td>0.095246</td>\n",
       "      <td>0.109748</td>\n",
       "    </tr>\n",
       "    <tr>\n",
       "      <th>53927</th>\n",
       "      <td>0.157685</td>\n",
       "      <td>0.564246</td>\n",
       "      <td>0.104075</td>\n",
       "      <td>0.111321</td>\n",
       "    </tr>\n",
       "    <tr>\n",
       "      <th>53932</th>\n",
       "      <td>0.139721</td>\n",
       "      <td>0.531657</td>\n",
       "      <td>0.097793</td>\n",
       "      <td>0.109119</td>\n",
       "    </tr>\n",
       "    <tr>\n",
       "      <th>53939</th>\n",
       "      <td>0.149701</td>\n",
       "      <td>0.542831</td>\n",
       "      <td>0.099660</td>\n",
       "      <td>0.114465</td>\n",
       "    </tr>\n",
       "  </tbody>\n",
       "</table>\n",
       "<p>10656 rows × 4 columns</p>\n",
       "</div>"
      ],
      "text/plain": [
       "          carat         x         y         z\n",
       "0      0.045908  0.367784  0.067572  0.076415\n",
       "14     0.039920  0.352886  0.063667  0.071384\n",
       "26     0.047904  0.369646  0.066893  0.077673\n",
       "29     0.045908  0.368715  0.067742  0.076101\n",
       "36     0.045908  0.356611  0.065365  0.077358\n",
       "...         ...       ...       ...       ...\n",
       "53918  0.151697  0.552142  0.099321  0.109748\n",
       "53920  0.139721  0.518622  0.095246  0.109748\n",
       "53927  0.157685  0.564246  0.104075  0.111321\n",
       "53932  0.139721  0.531657  0.097793  0.109119\n",
       "53939  0.149701  0.542831  0.099660  0.114465\n",
       "\n",
       "[10656 rows x 4 columns]"
      ]
     },
     "execution_count": 23,
     "metadata": {},
     "output_type": "execute_result"
    }
   ],
   "source": [
    "x_test"
   ]
  },
  {
   "cell_type": "markdown",
   "id": "a2d09b27",
   "metadata": {},
   "source": [
    "### Linear Regression"
   ]
  },
  {
   "cell_type": "code",
   "execution_count": 24,
   "id": "2826a064",
   "metadata": {},
   "outputs": [],
   "source": [
    "class LinRegression:\n",
    "    def __init__(self):\n",
    "        self.weights = None\n",
    "    \n",
    "    def fit(self,X,y):\n",
    "        XT_X = X.T @ X\n",
    "        self.weights = np.linalg.inv(X.T @ X) @ X.T @ y\n",
    "    \n",
    "    def predict(self,X):\n",
    "        return X @ self.weights.to_numpy()"
   ]
  },
  {
   "cell_type": "code",
   "execution_count": 25,
   "id": "106e4b23",
   "metadata": {},
   "outputs": [],
   "source": [
    "linreg = LinRegression()"
   ]
  },
  {
   "cell_type": "code",
   "execution_count": 26,
   "id": "569eaef3",
   "metadata": {},
   "outputs": [],
   "source": [
    "linreg.fit(x_train,y_train)"
   ]
  },
  {
   "cell_type": "code",
   "execution_count": 27,
   "id": "8d8370d4",
   "metadata": {},
   "outputs": [],
   "source": [
    "y_pred_linear = linreg.predict(x_test)"
   ]
  },
  {
   "cell_type": "markdown",
   "id": "59621242",
   "metadata": {},
   "source": [
    "### Mean Square Error"
   ]
  },
  {
   "cell_type": "code",
   "execution_count": 28,
   "id": "9f4ec59c",
   "metadata": {},
   "outputs": [
    {
     "name": "stdout",
     "output_type": "stream",
     "text": [
      "0.0067527169377345425\n"
     ]
    }
   ],
   "source": [
    "Linear_MSE = np.mean((y_test-y_pred_linear)**2)\n",
    "print(Linear_MSE)"
   ]
  },
  {
   "cell_type": "code",
   "execution_count": 29,
   "id": "a687ce2c",
   "metadata": {},
   "outputs": [
    {
     "data": {
      "text/plain": [
       "0    2.434349\n",
       "1   -0.550315\n",
       "2    1.962669\n",
       "3   -0.686875\n",
       "dtype: float64"
      ]
     },
     "execution_count": 29,
     "metadata": {},
     "output_type": "execute_result"
    }
   ],
   "source": [
    "linreg.weights"
   ]
  },
  {
   "cell_type": "code",
   "execution_count": 30,
   "id": "ea3f1820",
   "metadata": {},
   "outputs": [],
   "source": [
    "pickle.dump(linreg.weights,open( \"saitejad_vvudhaya_assignment1_part2.pickle\", \"wb\" ))"
   ]
  },
  {
   "cell_type": "code",
   "execution_count": 31,
   "id": "c0470927",
   "metadata": {
    "scrolled": true
   },
   "outputs": [
    {
     "data": {
      "image/png": "[encoded data removed]",
      "text/plain": [
       "<Figure size 432x288 with 1 Axes>"
      ]
     },
     "metadata": {
      "needs_background": "light"
     },
     "output_type": "display_data"
    }
   ],
   "source": [
    "sns.regplot(x=y_pred_linear, y=y_test);\n",
    "plt.xlim([0, 1])\n",
    "plt.ylim([0, 1])\n",
    "plt.xlabel('Predicted Price')\n",
    "plt.ylabel('Actual Price')\n",
    "plt.title('Linear Regression - Comparison of Actual and Predicted Prices')\n",
    "plt.show()"
   ]
  },
  {
   "cell_type": "markdown",
   "id": "30c1e8c2",
   "metadata": {},
   "source": [
    "### Ridge Regression"
   ]
  },
  {
   "cell_type": "code",
   "execution_count": 32,
   "id": "c695a153",
   "metadata": {},
   "outputs": [],
   "source": [
    "class RidgRegression:\n",
    "    def __init__(self, lambda_val):\n",
    "        self.lambda_val = lambda_val\n",
    "    \n",
    "    def fit(self,X,y):\n",
    "        n, p = X.shape\n",
    "        I = np.eye(p)\n",
    "        self.weights = np.linalg.inv(X.T @ X + self.lambda_val*I) @ X.T @ y\n",
    "    \n",
    "    def predict(self,X):\n",
    "        return X @ self.weights.to_numpy()"
   ]
  },
  {
   "cell_type": "code",
   "execution_count": 33,
   "id": "35347e23",
   "metadata": {},
   "outputs": [],
   "source": [
    "alpha = 0.1\n",
    "ridgreg = RidgRegression(alpha)"
   ]
  },
  {
   "cell_type": "code",
   "execution_count": 34,
   "id": "58977377",
   "metadata": {},
   "outputs": [],
   "source": [
    "ridgreg.fit(x_train,y_train)"
   ]
  },
  {
   "cell_type": "code",
   "execution_count": 35,
   "id": "72a6ca71",
   "metadata": {},
   "outputs": [],
   "source": [
    "y_pred_ridge = ridgreg.predict(x_test)"
   ]
  },
  {
   "cell_type": "code",
   "execution_count": 36,
   "id": "dd4bb560",
   "metadata": {},
   "outputs": [
    {
     "data": {
      "text/plain": [
       "0    2.431375\n",
       "1   -0.451947\n",
       "2    1.361170\n",
       "3   -0.627995\n",
       "dtype: float64"
      ]
     },
     "execution_count": 36,
     "metadata": {},
     "output_type": "execute_result"
    }
   ],
   "source": [
    "ridgreg.weights"
   ]
  },
  {
   "cell_type": "code",
   "execution_count": 37,
   "id": "aea4f491",
   "metadata": {},
   "outputs": [],
   "source": [
    "pickle.dump(ridgreg.weights,open( \"saitejad_vvudhaya_assignment1_part3.pickle\", \"wb\" ))"
   ]
  },
  {
   "cell_type": "markdown",
   "id": "f6c4e62b",
   "metadata": {},
   "source": [
    "### Squared loss"
   ]
  },
  {
   "cell_type": "code",
   "execution_count": 38,
   "id": "c77446c0",
   "metadata": {},
   "outputs": [
    {
     "name": "stdout",
     "output_type": "stream",
     "text": [
      "0.0067527169377345425\n"
     ]
    }
   ],
   "source": [
    "Ridge_MSE = np.mean((y_test-y_pred_linear)**2)\n",
    "print(Ridge_MSE)"
   ]
  },
  {
   "cell_type": "code",
   "execution_count": 39,
   "id": "e7f763ff",
   "metadata": {},
   "outputs": [
    {
     "name": "stdout",
     "output_type": "stream",
     "text": [
      "0.8430526280732467\n"
     ]
    }
   ],
   "source": [
    "Ridge_MSE = np.mean((y_test-y_pred_linear)**2)\n",
    "penalty = alpha * np.dot(ridgreg.weights.T,ridgreg.weights)\n",
    "Sqrd_loss = Ridge_MSE + penalty\n",
    "print(Sqrd_loss)"
   ]
  },
  {
   "cell_type": "code",
   "execution_count": 40,
   "id": "6b81be1e",
   "metadata": {},
   "outputs": [
    {
     "data": {
      "image/png": "[encoded data removed]",
      "text/plain": [
       "<Figure size 432x288 with 1 Axes>"
      ]
     },
     "metadata": {
      "needs_background": "light"
     },
     "output_type": "display_data"
    }
   ],
   "source": [
    "sns.regplot(x=y_pred_ridge, y=y_test);\n",
    "plt.xlim([0, 1])\n",
    "plt.ylim([0, 1])\n",
    "plt.xlabel('Predicted Price')\n",
    "plt.ylabel('Actual Price')\n",
    "plt.title('Ridge Regression - Comparison of Actual and Predicted Prices')\n",
    "plt.show()"
   ]
  },
  {
   "cell_type": "code",
   "execution_count": null,
   "id": "532619e1",
   "metadata": {},
   "outputs": [],
   "source": []
  }
 ],
 "metadata": {
  "kernelspec": {
   "display_name": "Python 3 (ipykernel)",
   "language": "python",
   "name": "python3"
  },
  "language_info": {
   "codemirror_mode": {
    "name": "ipython",
    "version": 3
   },
   "file_extension": ".py",
   "mimetype": "text/x-python",
   "name": "python",
   "nbconvert_exporter": "python",
   "pygments_lexer": "ipython3",
   "version": "3.9.12"
  }
 },
 "nbformat": 4,
 "nbformat_minor": 5
}
