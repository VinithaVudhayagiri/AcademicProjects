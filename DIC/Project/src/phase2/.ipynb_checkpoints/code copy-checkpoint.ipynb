{
 "cells": [
  {
   "cell_type": "markdown",
   "id": "6966a7a7",
   "metadata": {},
   "source": [
    "## Phase 1"
   ]
  },
  {
   "cell_type": "code",
   "execution_count": 1,
   "id": "8b865094",
   "metadata": {},
   "outputs": [],
   "source": [
    "import pandas as pd\n",
    "import datetime\n",
    "import matplotlib.pyplot as plt\n",
    "import numpy as np\n",
    "\n",
    "import seaborn as sns\n",
    "from scipy.stats import skew"
   ]
  },
  {
   "cell_type": "markdown",
   "id": "a4f07d4d",
   "metadata": {},
   "source": [
    "## Data\n",
    "https://www.kaggle.com/datasets/rikdifos/credit-card-approval-prediction"
   ]
  },
  {
   "cell_type": "code",
   "execution_count": 2,
   "id": "22feb7fe",
   "metadata": {},
   "outputs": [],
   "source": [
    "application_file = r'data/application_record.csv'\n",
    "credit_file = r'data/credit_record.csv'"
   ]
  },
  {
   "cell_type": "code",
   "execution_count": 3,
   "id": "45f9d0db",
   "metadata": {},
   "outputs": [
    {
     "name": "stdout",
     "output_type": "stream",
     "text": [
      "(438557, 18)\n",
      "(1048575, 3)\n"
     ]
    }
   ],
   "source": [
    "df_application = pd.read_csv(application_file)\n",
    "df_credit = pd.read_csv(credit_file)\n",
    "print(df_application.shape)\n",
    "print(df_credit.shape)"
   ]
  },
  {
   "cell_type": "code",
   "execution_count": 4,
   "id": "8eb36348",
   "metadata": {},
   "outputs": [
    {
     "name": "stdout",
     "output_type": "stream",
     "text": [
      "<class 'pandas.core.frame.DataFrame'>\n",
      "RangeIndex: 438557 entries, 0 to 438556\n",
      "Data columns (total 18 columns):\n",
      " #   Column               Non-Null Count   Dtype  \n",
      "---  ------               --------------   -----  \n",
      " 0   ID                   438557 non-null  int64  \n",
      " 1   CODE_GENDER          438557 non-null  object \n",
      " 2   FLAG_OWN_CAR         438557 non-null  object \n",
      " 3   FLAG_OWN_REALTY      438557 non-null  object \n",
      " 4   CNT_CHILDREN         438557 non-null  int64  \n",
      " 5   AMT_INCOME_TOTAL     438557 non-null  float64\n",
      " 6   NAME_INCOME_TYPE     438557 non-null  object \n",
      " 7   NAME_EDUCATION_TYPE  438557 non-null  object \n",
      " 8   NAME_FAMILY_STATUS   438557 non-null  object \n",
      " 9   NAME_HOUSING_TYPE    438557 non-null  object \n",
      " 10  DAYS_BIRTH           438557 non-null  int64  \n",
      " 11  DAYS_EMPLOYED        438557 non-null  int64  \n",
      " 12  FLAG_MOBIL           438557 non-null  int64  \n",
      " 13  FLAG_WORK_PHONE      438557 non-null  int64  \n",
      " 14  FLAG_PHONE           438557 non-null  int64  \n",
      " 15  FLAG_EMAIL           438557 non-null  int64  \n",
      " 16  OCCUPATION_TYPE      304354 non-null  object \n",
      " 17  CNT_FAM_MEMBERS      438557 non-null  float64\n",
      "dtypes: float64(2), int64(8), object(8)\n",
      "memory usage: 60.2+ MB\n"
     ]
    }
   ],
   "source": [
    "df_application.info()"
   ]
  },
  {
   "cell_type": "code",
   "execution_count": 5,
   "id": "c28f22f6",
   "metadata": {},
   "outputs": [
    {
     "name": "stdout",
     "output_type": "stream",
     "text": [
      "<class 'pandas.core.frame.DataFrame'>\n",
      "RangeIndex: 1048575 entries, 0 to 1048574\n",
      "Data columns (total 3 columns):\n",
      " #   Column          Non-Null Count    Dtype \n",
      "---  ------          --------------    ----- \n",
      " 0   ID              1048575 non-null  int64 \n",
      " 1   MONTHS_BALANCE  1048575 non-null  int64 \n",
      " 2   STATUS          1048575 non-null  object\n",
      "dtypes: int64(2), object(1)\n",
      "memory usage: 24.0+ MB\n"
     ]
    }
   ],
   "source": [
    "df_credit.info()"
   ]
  },
  {
   "cell_type": "markdown",
   "id": "b240783f",
   "metadata": {},
   "source": [
    "### 1.Removing duplicates"
   ]
  },
  {
   "cell_type": "code",
   "execution_count": 6,
   "id": "47661ac3",
   "metadata": {},
   "outputs": [],
   "source": [
    "df_application = df_application.drop_duplicates()\n",
    "df_credit = df_credit.drop_duplicates()\n",
    "df_application.reset_index(inplace=True)\n",
    "df_application.drop(columns=['index'],inplace=True)\n",
    "df_credit.reset_index(inplace=True)\n",
    "df_credit.drop(columns=['index'],inplace=True)"
   ]
  },
  {
   "cell_type": "markdown",
   "id": "9a332d0e",
   "metadata": {},
   "source": [
    "### 2.Adding new columns"
   ]
  },
  {
   "cell_type": "code",
   "execution_count": 7,
   "id": "9b5c2817",
   "metadata": {},
   "outputs": [],
   "source": [
    "df_application['AGE'] = (df_application['DAYS_BIRTH'] / -365.25).astype(int)"
   ]
  },
  {
   "cell_type": "code",
   "execution_count": 8,
   "id": "d7611b21",
   "metadata": {},
   "outputs": [
    {
     "data": {
      "text/plain": [
       "count    438557.000000\n",
       "mean         43.295569\n",
       "std          11.459525\n",
       "min          20.000000\n",
       "25%          34.000000\n",
       "50%          42.000000\n",
       "75%          53.000000\n",
       "max          68.000000\n",
       "Name: AGE, dtype: float64"
      ]
     },
     "execution_count": 8,
     "metadata": {},
     "output_type": "execute_result"
    }
   ],
   "source": [
    "df_application['AGE'].describe()"
   ]
  },
  {
   "cell_type": "code",
   "execution_count": 9,
   "id": "ec126542",
   "metadata": {},
   "outputs": [
    {
     "data": {
      "text/plain": [
       "7    NaN\n",
       "Name: OCCUPATION_TYPE, dtype: object"
      ]
     },
     "execution_count": 9,
     "metadata": {},
     "output_type": "execute_result"
    }
   ],
   "source": [
    "df_application.query('DAYS_EMPLOYED==365243')['OCCUPATION_TYPE'].drop_duplicates()"
   ]
  },
  {
   "cell_type": "markdown",
   "id": "64988e4e",
   "metadata": {},
   "source": [
    "### 3.Filtering out rows based on value"
   ]
  },
  {
   "cell_type": "code",
   "execution_count": 10,
   "id": "404ee5f8",
   "metadata": {},
   "outputs": [],
   "source": [
    "df_application['DAYS_EMPLOYED'] = df_application['DAYS_EMPLOYED'].where(df_application['DAYS_EMPLOYED']!=365243,0)"
   ]
  },
  {
   "cell_type": "code",
   "execution_count": 11,
   "id": "8984770c",
   "metadata": {},
   "outputs": [
    {
     "data": {
      "text/plain": [
       "102186   -17531\n",
       "102185   -17531\n",
       "102187   -17531\n",
       "102188   -17531\n",
       "102189   -17531\n",
       "          ...  \n",
       "174975        0\n",
       "174974        0\n",
       "174973        0\n",
       "156723        0\n",
       "268401        0\n",
       "Name: DAYS_EMPLOYED, Length: 438557, dtype: int64"
      ]
     },
     "execution_count": 11,
     "metadata": {},
     "output_type": "execute_result"
    }
   ],
   "source": [
    "df_application['DAYS_EMPLOYED'].sort_values()"
   ]
  },
  {
   "cell_type": "code",
   "execution_count": 12,
   "id": "d9eb258e",
   "metadata": {},
   "outputs": [],
   "source": [
    "df_application['TOTAL_EXPERIENCE'] = (df_application['DAYS_EMPLOYED'] / -365.25).astype(int)"
   ]
  },
  {
   "cell_type": "markdown",
   "id": "71a2b3b5",
   "metadata": {},
   "source": [
    "### 4.Filling in missing values"
   ]
  },
  {
   "cell_type": "code",
   "execution_count": 13,
   "id": "0850ba13",
   "metadata": {},
   "outputs": [],
   "source": [
    "df_application['OCCUPATION_TYPE'].fillna(\"No Job\",inplace=True)"
   ]
  },
  {
   "cell_type": "code",
   "execution_count": 14,
   "id": "24f3eb57",
   "metadata": {},
   "outputs": [
    {
     "data": {
      "text/plain": [
       "array(['No Job', 'Security staff', 'Sales staff', 'Accountants',\n",
       "       'Laborers', 'Managers', 'Drivers', 'Core staff',\n",
       "       'High skill tech staff', 'Cleaning staff', 'Private service staff',\n",
       "       'Cooking staff', 'Low-skill Laborers', 'Medicine staff',\n",
       "       'Secretaries', 'Waiters/barmen staff', 'HR staff', 'Realty agents',\n",
       "       'IT staff'], dtype=object)"
      ]
     },
     "execution_count": 14,
     "metadata": {},
     "output_type": "execute_result"
    }
   ],
   "source": [
    "df_application['OCCUPATION_TYPE'].unique()"
   ]
  },
  {
   "cell_type": "code",
   "execution_count": 15,
   "id": "2df9244b",
   "metadata": {},
   "outputs": [
    {
     "data": {
      "text/plain": [
       "No Job                   134203\n",
       "Laborers                  78240\n",
       "Core staff                43007\n",
       "Sales staff               41098\n",
       "Managers                  35487\n",
       "Drivers                   26090\n",
       "High skill tech staff     17289\n",
       "Accountants               15985\n",
       "Medicine staff            13520\n",
       "Cooking staff              8076\n",
       "Security staff             7993\n",
       "Cleaning staff             5845\n",
       "Private service staff      3456\n",
       "Low-skill Laborers         2140\n",
       "Secretaries                2044\n",
       "Waiters/barmen staff       1665\n",
       "Realty agents              1041\n",
       "HR staff                    774\n",
       "IT staff                    604\n",
       "Name: OCCUPATION_TYPE, dtype: int64"
      ]
     },
     "execution_count": 15,
     "metadata": {},
     "output_type": "execute_result"
    }
   ],
   "source": [
    "df_application['OCCUPATION_TYPE'].value_counts()"
   ]
  },
  {
   "cell_type": "markdown",
   "id": "a33eefb9",
   "metadata": {},
   "source": [
    "##### All the other columns have valid values without nulls"
   ]
  },
  {
   "cell_type": "code",
   "execution_count": 16,
   "id": "1156f1a2",
   "metadata": {},
   "outputs": [
    {
     "data": {
      "text/plain": [
       "ID     CODE_GENDER  FLAG_OWN_CAR  FLAG_OWN_REALTY  CNT_CHILDREN  AMT_INCOME_TOTAL  NAME_INCOME_TYPE  NAME_EDUCATION_TYPE  NAME_FAMILY_STATUS  NAME_HOUSING_TYPE  DAYS_BIRTH  DAYS_EMPLOYED  FLAG_MOBIL  FLAG_WORK_PHONE  FLAG_PHONE  FLAG_EMAIL  OCCUPATION_TYPE  CNT_FAM_MEMBERS  AGE    TOTAL_EXPERIENCE\n",
       "False  False        False         False            False         False             False             False                False               False              False       False          False       False            False       False       False            False            False  False               438557\n",
       "dtype: int64"
      ]
     },
     "execution_count": 16,
     "metadata": {},
     "output_type": "execute_result"
    }
   ],
   "source": [
    "df_application.isna().value_counts()"
   ]
  },
  {
   "cell_type": "code",
   "execution_count": 17,
   "id": "0410fe10",
   "metadata": {},
   "outputs": [
    {
     "data": {
      "text/plain": [
       "ID                       int64\n",
       "CODE_GENDER             object\n",
       "FLAG_OWN_CAR            object\n",
       "FLAG_OWN_REALTY         object\n",
       "CNT_CHILDREN             int64\n",
       "AMT_INCOME_TOTAL       float64\n",
       "NAME_INCOME_TYPE        object\n",
       "NAME_EDUCATION_TYPE     object\n",
       "NAME_FAMILY_STATUS      object\n",
       "NAME_HOUSING_TYPE       object\n",
       "DAYS_BIRTH               int64\n",
       "DAYS_EMPLOYED            int64\n",
       "FLAG_MOBIL               int64\n",
       "FLAG_WORK_PHONE          int64\n",
       "FLAG_PHONE               int64\n",
       "FLAG_EMAIL               int64\n",
       "OCCUPATION_TYPE         object\n",
       "CNT_FAM_MEMBERS        float64\n",
       "AGE                      int64\n",
       "TOTAL_EXPERIENCE         int64\n",
       "dtype: object"
      ]
     },
     "execution_count": 17,
     "metadata": {},
     "output_type": "execute_result"
    }
   ],
   "source": [
    "df_application.dtypes"
   ]
  },
  {
   "cell_type": "markdown",
   "id": "830a650c",
   "metadata": {},
   "source": [
    "### 5.Conversion of string data to number/data values\n",
    "###### making sure all the columns are strings before applying encoding"
   ]
  },
  {
   "cell_type": "code",
   "execution_count": 18,
   "id": "1b6ef2de",
   "metadata": {},
   "outputs": [],
   "source": [
    "df_application['CODE_GENDER'] = df_application['CODE_GENDER'].astype(str)\n",
    "df_application['FLAG_OWN_CAR'] = df_application['FLAG_OWN_CAR'].astype(str)\n",
    "df_application['FLAG_OWN_REALTY'] = df_application['FLAG_OWN_REALTY'].astype(str)\n",
    "df_application['NAME_INCOME_TYPE'] = df_application['NAME_INCOME_TYPE'].astype(str)\n",
    "df_application['NAME_EDUCATION_TYPE'] = df_application['NAME_EDUCATION_TYPE'].astype(str)\n",
    "df_application['NAME_FAMILY_STATUS'] = df_application['NAME_FAMILY_STATUS'].astype(str)\n",
    "df_application['NAME_HOUSING_TYPE'] = df_application['NAME_HOUSING_TYPE'].astype(str)\n",
    "df_application['OCCUPATION_TYPE'] = df_application['OCCUPATION_TYPE'].astype(str)"
   ]
  },
  {
   "cell_type": "markdown",
   "id": "b184b747",
   "metadata": {},
   "source": [
    "### 6.changing categorical columns using encoding"
   ]
  },
  {
   "cell_type": "code",
   "execution_count": 19,
   "id": "72da7e4a",
   "metadata": {},
   "outputs": [],
   "source": [
    "CODE_GENDER_CONVERSION = {'F': 0, 'M': 1}\n",
    "FLAG_OWN_CAR_CONVERSION = {'N': 0, 'Y': 1}\n",
    "FLAG_OWN_REALTY_CONVERSION = {'N': 0, 'Y': 1}\n",
    "NAME_INCOME_TYPE_CONVERSION = {'Commercial associate': 0, 'Pensioner': 1, 'State servant': 2, 'Student': 3, 'Working': 4}\n",
    "NAME_FAMILY_STATUS_CONVERSION = {'Civil marriage': 0, 'Married': 1, 'Separated': 2, 'Single / not married': 3, 'Widow': 4}\n",
    "OCCUPATION_TYPE_CONVERSION = {'Accountants': 0, 'Cleaning staff': 1, 'Cooking staff': 2, 'Core staff': 3, 'Drivers': 4, 'HR staff': 5, 'High skill tech staff': 6, 'IT staff': 7, 'Laborers': 8, 'Low-skill Laborers': 9, 'Managers': 10, 'Medicine staff': 11, 'Private service staff': 12, 'Realty agents': 13, 'Sales staff': 14, 'Secretaries': 15, 'Security staff': 16, 'Waiters/barmen staff': 17,'No Job':18}\n",
    "NAME_HOUSING_TYPE_CONVERSION = {'Co-op apartment': 0, 'House / apartment': 1, 'Municipal apartment': 2, 'Office apartment': 3, 'Rented apartment': 4, 'With parents': 5}\n",
    "NAME_EDUCATION_TYPE_CONVERSION = {'Academic degree': 0, 'Higher education': 1, 'Incomplete higher': 2, 'Lower secondary': 3, 'Secondary / secondary special': 4}"
   ]
  },
  {
   "cell_type": "code",
   "execution_count": 20,
   "id": "5c950da5",
   "metadata": {},
   "outputs": [],
   "source": [
    "df_application.replace({'CODE_GENDER' : CODE_GENDER_CONVERSION}, inplace=True)\n",
    "df_application.replace({'FLAG_OWN_CAR' : FLAG_OWN_CAR_CONVERSION}, inplace=True)\n",
    "df_application.replace({'FLAG_OWN_REALTY' : FLAG_OWN_REALTY_CONVERSION}, inplace=True)\n",
    "df_application.replace({'NAME_INCOME_TYPE' : NAME_INCOME_TYPE_CONVERSION}, inplace=True)\n",
    "df_application.replace({'NAME_FAMILY_STATUS' : NAME_FAMILY_STATUS_CONVERSION}, inplace=True)\n",
    "df_application.replace({'OCCUPATION_TYPE' : OCCUPATION_TYPE_CONVERSION}, inplace=True)\n",
    "df_application.replace({'NAME_HOUSING_TYPE' : NAME_HOUSING_TYPE_CONVERSION}, inplace=True)\n",
    "df_application.replace({'NAME_EDUCATION_TYPE' : NAME_EDUCATION_TYPE_CONVERSION}, inplace=True)"
   ]
  },
  {
   "cell_type": "code",
   "execution_count": 21,
   "id": "27affab6",
   "metadata": {},
   "outputs": [
    {
     "name": "stdout",
     "output_type": "stream",
     "text": [
      "<class 'pandas.core.frame.DataFrame'>\n",
      "RangeIndex: 438557 entries, 0 to 438556\n",
      "Data columns (total 20 columns):\n",
      " #   Column               Non-Null Count   Dtype  \n",
      "---  ------               --------------   -----  \n",
      " 0   ID                   438557 non-null  int64  \n",
      " 1   CODE_GENDER          438557 non-null  int64  \n",
      " 2   FLAG_OWN_CAR         438557 non-null  int64  \n",
      " 3   FLAG_OWN_REALTY      438557 non-null  int64  \n",
      " 4   CNT_CHILDREN         438557 non-null  int64  \n",
      " 5   AMT_INCOME_TOTAL     438557 non-null  float64\n",
      " 6   NAME_INCOME_TYPE     438557 non-null  int64  \n",
      " 7   NAME_EDUCATION_TYPE  438557 non-null  int64  \n",
      " 8   NAME_FAMILY_STATUS   438557 non-null  int64  \n",
      " 9   NAME_HOUSING_TYPE    438557 non-null  int64  \n",
      " 10  DAYS_BIRTH           438557 non-null  int64  \n",
      " 11  DAYS_EMPLOYED        438557 non-null  int64  \n",
      " 12  FLAG_MOBIL           438557 non-null  int64  \n",
      " 13  FLAG_WORK_PHONE      438557 non-null  int64  \n",
      " 14  FLAG_PHONE           438557 non-null  int64  \n",
      " 15  FLAG_EMAIL           438557 non-null  int64  \n",
      " 16  OCCUPATION_TYPE      438557 non-null  int64  \n",
      " 17  CNT_FAM_MEMBERS      438557 non-null  float64\n",
      " 18  AGE                  438557 non-null  int64  \n",
      " 19  TOTAL_EXPERIENCE     438557 non-null  int64  \n",
      "dtypes: float64(2), int64(18)\n",
      "memory usage: 66.9 MB\n"
     ]
    }
   ],
   "source": [
    "df_application.info()"
   ]
  },
  {
   "cell_type": "markdown",
   "id": "1d824511",
   "metadata": {},
   "source": [
    "### 7.Creating target column"
   ]
  },
  {
   "cell_type": "code",
   "execution_count": 22,
   "id": "7f2f15e3",
   "metadata": {},
   "outputs": [],
   "source": [
    "Status_definition = {'C' : 'Good_Debt', 'X' : 'Good_Debt', '0' : 'Good_Debt', '1' : 'Neutral_Debt', '2' : 'Neutral_Debt', '3' : 'Bad_Debt', '4' : 'Bad_Debt', '5' : 'Bad_Debt'}\n",
    "df_credit.replace({'STATUS' : Status_definition}, inplace=True)"
   ]
  },
  {
   "cell_type": "code",
   "execution_count": 23,
   "id": "5d2fdebb",
   "metadata": {},
   "outputs": [],
   "source": [
    "df_credit = df_credit.value_counts(subset=['ID', 'STATUS']).unstack(fill_value=0)"
   ]
  },
  {
   "cell_type": "code",
   "execution_count": 24,
   "id": "024a7d4d",
   "metadata": {},
   "outputs": [
    {
     "data": {
      "text/html": [
       "<div>\n",
       "<style scoped>\n",
       "    .dataframe tbody tr th:only-of-type {\n",
       "        vertical-align: middle;\n",
       "    }\n",
       "\n",
       "    .dataframe tbody tr th {\n",
       "        vertical-align: top;\n",
       "    }\n",
       "\n",
       "    .dataframe thead th {\n",
       "        text-align: right;\n",
       "    }\n",
       "</style>\n",
       "<table border=\"1\" class=\"dataframe\">\n",
       "  <thead>\n",
       "    <tr style=\"text-align: right;\">\n",
       "      <th>STATUS</th>\n",
       "      <th>Bad_Debt</th>\n",
       "      <th>Good_Debt</th>\n",
       "      <th>Neutral_Debt</th>\n",
       "    </tr>\n",
       "    <tr>\n",
       "      <th>ID</th>\n",
       "      <th></th>\n",
       "      <th></th>\n",
       "      <th></th>\n",
       "    </tr>\n",
       "  </thead>\n",
       "  <tbody>\n",
       "    <tr>\n",
       "      <th>5001711</th>\n",
       "      <td>0</td>\n",
       "      <td>4</td>\n",
       "      <td>0</td>\n",
       "    </tr>\n",
       "    <tr>\n",
       "      <th>5001712</th>\n",
       "      <td>0</td>\n",
       "      <td>19</td>\n",
       "      <td>0</td>\n",
       "    </tr>\n",
       "    <tr>\n",
       "      <th>5001713</th>\n",
       "      <td>0</td>\n",
       "      <td>22</td>\n",
       "      <td>0</td>\n",
       "    </tr>\n",
       "    <tr>\n",
       "      <th>5001714</th>\n",
       "      <td>0</td>\n",
       "      <td>15</td>\n",
       "      <td>0</td>\n",
       "    </tr>\n",
       "    <tr>\n",
       "      <th>5001715</th>\n",
       "      <td>0</td>\n",
       "      <td>60</td>\n",
       "      <td>0</td>\n",
       "    </tr>\n",
       "    <tr>\n",
       "      <th>...</th>\n",
       "      <td>...</td>\n",
       "      <td>...</td>\n",
       "      <td>...</td>\n",
       "    </tr>\n",
       "    <tr>\n",
       "      <th>5150482</th>\n",
       "      <td>0</td>\n",
       "      <td>18</td>\n",
       "      <td>0</td>\n",
       "    </tr>\n",
       "    <tr>\n",
       "      <th>5150483</th>\n",
       "      <td>0</td>\n",
       "      <td>18</td>\n",
       "      <td>0</td>\n",
       "    </tr>\n",
       "    <tr>\n",
       "      <th>5150484</th>\n",
       "      <td>0</td>\n",
       "      <td>13</td>\n",
       "      <td>0</td>\n",
       "    </tr>\n",
       "    <tr>\n",
       "      <th>5150485</th>\n",
       "      <td>0</td>\n",
       "      <td>2</td>\n",
       "      <td>0</td>\n",
       "    </tr>\n",
       "    <tr>\n",
       "      <th>5150487</th>\n",
       "      <td>0</td>\n",
       "      <td>30</td>\n",
       "      <td>0</td>\n",
       "    </tr>\n",
       "  </tbody>\n",
       "</table>\n",
       "<p>45985 rows × 3 columns</p>\n",
       "</div>"
      ],
      "text/plain": [
       "STATUS   Bad_Debt  Good_Debt  Neutral_Debt\n",
       "ID                                        \n",
       "5001711         0          4             0\n",
       "5001712         0         19             0\n",
       "5001713         0         22             0\n",
       "5001714         0         15             0\n",
       "5001715         0         60             0\n",
       "...           ...        ...           ...\n",
       "5150482         0         18             0\n",
       "5150483         0         18             0\n",
       "5150484         0         13             0\n",
       "5150485         0          2             0\n",
       "5150487         0         30             0\n",
       "\n",
       "[45985 rows x 3 columns]"
      ]
     },
     "execution_count": 24,
     "metadata": {},
     "output_type": "execute_result"
    }
   ],
   "source": [
    "df_credit"
   ]
  },
  {
   "cell_type": "code",
   "execution_count": null,
   "id": "f1c619c3",
   "metadata": {},
   "outputs": [],
   "source": [
    "df_credit.loc[(df_credit['Good_Debt'] > df_credit['Neutral_Debt']), 'CREDIT_APPROVAL_STATUS'] = 1\n",
    "df_credit.loc[(df_credit['Good_Debt'] > df_credit['Bad_Debt']), 'CREDIT_APPROVAL_STATUS'] = 1\n",
    "df_credit.loc[(df_credit['Neutral_Debt'] > df_credit['Good_Debt']), 'CREDIT_APPROVAL_STATUS'] = 0\n",
    "df_credit.loc[(df_credit['Neutral_Debt'] > df_credit['Bad_Debt']), 'CREDIT_APPROVAL_STATUS'] = 1\n",
    "df_credit.loc[(df_credit['Bad_Debt'] > df_credit['Good_Debt']), 'CREDIT_APPROVAL_STATUS'] = 0\n",
    "df_credit.loc[(df_credit['Bad_Debt'] > df_credit['Neutral_Debt']), 'CREDIT_APPROVAL_STATUS'] = 0"
   ]
  },
  {
   "cell_type": "code",
   "execution_count": null,
   "id": "4eb4b24a",
   "metadata": {},
   "outputs": [],
   "source": [
    "df_credit.columns"
   ]
  },
  {
   "cell_type": "markdown",
   "id": "3b020ffc",
   "metadata": {},
   "source": [
    "### 8. Dropping unwanted columns"
   ]
  },
  {
   "cell_type": "code",
   "execution_count": null,
   "id": "c7ad6c9a",
   "metadata": {},
   "outputs": [],
   "source": [
    "df_credit.drop(columns=['Bad_Debt', 'Good_Debt', 'Neutral_Debt'],inplace=True)"
   ]
  },
  {
   "cell_type": "code",
   "execution_count": null,
   "id": "cb84d282",
   "metadata": {},
   "outputs": [],
   "source": [
    "df_credit.head()"
   ]
  },
  {
   "cell_type": "markdown",
   "id": "e3d1c284",
   "metadata": {},
   "source": [
    "### 9. Joining multiple datasets"
   ]
  },
  {
   "cell_type": "code",
   "execution_count": null,
   "id": "4e5bcaa4",
   "metadata": {},
   "outputs": [],
   "source": [
    "merged_df = pd.merge(df_credit, df_application, on='ID', how='inner')"
   ]
  },
  {
   "cell_type": "code",
   "execution_count": null,
   "id": "614d5a6a",
   "metadata": {},
   "outputs": [],
   "source": [
    "merged_df.count()"
   ]
  },
  {
   "cell_type": "code",
   "execution_count": null,
   "id": "cff0f452",
   "metadata": {},
   "outputs": [],
   "source": []
  },
  {
   "cell_type": "markdown",
   "id": "f54a0325",
   "metadata": {},
   "source": [
    "## Exploratory Data Analysis"
   ]
  },
  {
   "cell_type": "markdown",
   "id": "75c34ccc",
   "metadata": {},
   "source": [
    "### 1.Summary Statistics"
   ]
  },
  {
   "cell_type": "code",
   "execution_count": null,
   "id": "3bdfd700",
   "metadata": {},
   "outputs": [],
   "source": [
    "merged_df.describe().T"
   ]
  },
  {
   "cell_type": "markdown",
   "id": "15275b66",
   "metadata": {},
   "source": [
    "### 2.Correlation Analysis"
   ]
  },
  {
   "cell_type": "code",
   "execution_count": null,
   "id": "87e2ac61",
   "metadata": {},
   "outputs": [],
   "source": [
    "merged_df.corr().T"
   ]
  },
  {
   "cell_type": "markdown",
   "id": "b9af2703",
   "metadata": {},
   "source": [
    "### 3.Heatmap to show the correlation"
   ]
  },
  {
   "cell_type": "code",
   "execution_count": null,
   "id": "dcdbf6ba",
   "metadata": {},
   "outputs": [],
   "source": [
    "\n",
    "fig, ax = plt.subplots(figsize=(12, 10))\n",
    "\n",
    "# Plot the heatmap\n",
    "im = ax.imshow(merged_df.corr(), cmap='coolwarm', vmin=-1, vmax=1)\n",
    "\n",
    "# Create a colorbar\n",
    "cbar = ax.figure.colorbar(im, ax=ax)\n",
    "\n",
    "# Set the colorbar label\n",
    "cbar.ax.set_ylabel('Correlation', rotation=-90, va=\"bottom\")\n",
    "\n",
    "# Set the title and axis labels\n",
    "ax.set_title('Correlation Heatmap')\n",
    "ax.set_xlabel('Features')\n",
    "ax.set_ylabel('Features')\n",
    "\n",
    "# Create tick labels for x and y axis\n",
    "tick_labels = [col for col in merged_df.columns]\n",
    "ax.set_xticks(np.arange(len(tick_labels)))\n",
    "ax.set_yticks(np.arange(len(tick_labels)))\n",
    "ax.set_xticklabels(tick_labels, rotation=45, ha=\"right\")\n",
    "ax.set_yticklabels(tick_labels)"
   ]
  },
  {
   "cell_type": "markdown",
   "id": "91f3547c",
   "metadata": {},
   "source": [
    "##### FLAG_MOBIL does not have any impact on the data so dropping that column"
   ]
  },
  {
   "cell_type": "code",
   "execution_count": null,
   "id": "4c7a3173",
   "metadata": {},
   "outputs": [],
   "source": [
    "merged_df.drop(columns=['FLAG_MOBIL'],inplace=True)"
   ]
  },
  {
   "cell_type": "code",
   "execution_count": null,
   "id": "0a2ef22d",
   "metadata": {},
   "outputs": [],
   "source": [
    "# AMT_INCOME_TOTAL and CREDIT_APPROVAL_STATUS \n",
    "plt.scatter(merged_df['AMT_INCOME_TOTAL'], merged_df['CREDIT_APPROVAL_STATUS'])\n",
    "\n",
    "plt.xlabel('AMT_INCOME_TOTAL')\n",
    "\n",
    "plt.ylabel('CREDIT_APPROVAL_STATUS')\n",
    "\n",
    "plt.title('Relationship between AMT_INCOME_TOTAL and CREDIT_APPROVAL_STATUS ')"
   ]
  },
  {
   "cell_type": "markdown",
   "id": "d88c6023",
   "metadata": {},
   "source": [
    "##### AMT_INCOME_TOTAL have impact on application approval status "
   ]
  },
  {
   "cell_type": "code",
   "execution_count": null,
   "id": "4fe5f27b",
   "metadata": {},
   "outputs": [],
   "source": [
    "# CODE_GENDER and CREDIT_APPROVAL_STATUS \n",
    "merged_df.plot.scatter(x='CODE_GENDER', y='CREDIT_APPROVAL_STATUS')\n",
    "\n",
    "plt.xlabel('CODE_GENDER')\n",
    "\n",
    "plt.ylabel('CREDIT_APPROVAL_STATUS')\n",
    "\n",
    "plt.title('Relationship between CODE_GENDER and CREDIT_APPROVAL_STATUS ')"
   ]
  },
  {
   "cell_type": "markdown",
   "id": "63601a13",
   "metadata": {},
   "source": [
    "##### CODE_GENDER does not much influence the approval status"
   ]
  },
  {
   "cell_type": "code",
   "execution_count": null,
   "id": "f85419c4",
   "metadata": {},
   "outputs": [],
   "source": []
  },
  {
   "cell_type": "markdown",
   "id": "a6385ed0",
   "metadata": {},
   "source": [
    "### 4.Outlier Detection"
   ]
  },
  {
   "cell_type": "code",
   "execution_count": null,
   "id": "62bc0996",
   "metadata": {},
   "outputs": [],
   "source": [
    "plt.boxplot(merged_df['CNT_CHILDREN'])"
   ]
  },
  {
   "cell_type": "markdown",
   "id": "2e27cd1b",
   "metadata": {},
   "source": [
    "##### Removing the outliers from the cnt_children column"
   ]
  },
  {
   "cell_type": "code",
   "execution_count": null,
   "id": "5e90253a",
   "metadata": {},
   "outputs": [],
   "source": [
    "merged_df[merged_df['CNT_CHILDREN']>=17.5]"
   ]
  },
  {
   "cell_type": "code",
   "execution_count": null,
   "id": "553a2fa7",
   "metadata": {},
   "outputs": [],
   "source": [
    "merged_df = merged_df[merged_df['CNT_CHILDREN']<17.5]"
   ]
  },
  {
   "cell_type": "code",
   "execution_count": null,
   "id": "7c71403b",
   "metadata": {},
   "outputs": [],
   "source": [
    "plt.boxplot(merged_df['CNT_FAM_MEMBERS'])"
   ]
  },
  {
   "cell_type": "code",
   "execution_count": null,
   "id": "ad70eab5",
   "metadata": {},
   "outputs": [],
   "source": [
    "merged_df[merged_df['CNT_FAM_MEMBERS']>=12]"
   ]
  },
  {
   "cell_type": "code",
   "execution_count": null,
   "id": "d541aaaa",
   "metadata": {},
   "outputs": [],
   "source": [
    "merged_df = merged_df[merged_df['CNT_FAM_MEMBERS']<12]"
   ]
  },
  {
   "cell_type": "markdown",
   "id": "15779d79",
   "metadata": {},
   "source": [
    "### DATA CLEANING\n",
    "### 10. reset index"
   ]
  },
  {
   "cell_type": "code",
   "execution_count": null,
   "id": "d5f3cc27",
   "metadata": {},
   "outputs": [],
   "source": [
    "merged_df = merged_df.reset_index()\n",
    "merged_df.drop(columns = ['index'],inplace=True)"
   ]
  },
  {
   "cell_type": "markdown",
   "id": "6ad5176d",
   "metadata": {},
   "source": [
    "### EDA\n",
    "### 5. Using bar chart to find distribution of categorical data"
   ]
  },
  {
   "cell_type": "code",
   "execution_count": null,
   "id": "12ab41ab",
   "metadata": {},
   "outputs": [],
   "source": [
    "children_counts = merged_df['CNT_CHILDREN'].value_counts()\n",
    "children_counts.plot(kind='bar')\n",
    "\n",
    "plt.title('Distribution of No. of Children')\n",
    "\n",
    "plt.xlabel('Number of Children')\n",
    "plt.ylabel('Count')\n",
    "\n",
    "plt.xticks(range(len(children_counts)), children_counts.index)\n",
    "\n",
    "plt.show()\n",
    "print(\"From the bar chart we have observed that there are compartively very less number of families with 3 or more children\")"
   ]
  },
  {
   "cell_type": "code",
   "execution_count": null,
   "id": "850151d2",
   "metadata": {},
   "outputs": [],
   "source": [
    "income_type_counts = merged_df['NAME_INCOME_TYPE'].value_counts()\n",
    "income_type_counts.plot(kind='bar')\n",
    "\n",
    "plt.title('Distribution of Income types')\n",
    "\n",
    "plt.xlabel('Type of Income')\n",
    "plt.ylabel('Count')\n",
    "\n",
    "plt.xticks(range(len(income_type_counts)), income_type_counts.index)\n",
    "\n",
    "plt.show()\n"
   ]
  },
  {
   "cell_type": "code",
   "execution_count": null,
   "id": "c983601c",
   "metadata": {},
   "outputs": [],
   "source": []
  },
  {
   "cell_type": "markdown",
   "id": "28fd5bf8",
   "metadata": {},
   "source": [
    "### 6. Histogram to find the frequency of observations"
   ]
  },
  {
   "cell_type": "code",
   "execution_count": null,
   "id": "91e66b5a",
   "metadata": {},
   "outputs": [],
   "source": [
    "plt.hist(merged_df['AMT_INCOME_TOTAL'])\n",
    "plt.title('Income range graph')\n",
    "plt.xlabel('Income obtained')\n",
    "plt.ylabel('Count')\n",
    "\n",
    "plt.show()"
   ]
  },
  {
   "cell_type": "code",
   "execution_count": null,
   "id": "837bc8a5",
   "metadata": {},
   "outputs": [],
   "source": [
    "plt.hist(merged_df['NAME_EDUCATION_TYPE'], bins=10)\n",
    "\n",
    "plt.title('Distribution of Education Types')\n",
    "\n",
    "plt.xlabel('Education Type')\n",
    "plt.ylabel('Count')\n",
    "\n",
    "plt.show()\n",
    "\n",
    "print(NAME_EDUCATION_TYPE_CONVERSION)\n",
    "print(\"Applicants have mostly completed their secondary school, also some applicants have even completed their higher education\")"
   ]
  },
  {
   "cell_type": "markdown",
   "id": "84ec4204",
   "metadata": {},
   "source": [
    "### 7. Using skew to find the skewness in the data"
   ]
  },
  {
   "cell_type": "code",
   "execution_count": null,
   "id": "82c93b45",
   "metadata": {},
   "outputs": [],
   "source": [
    "plt.hist(merged_df['OCCUPATION_TYPE'], bins=10)\n",
    "\n",
    "plt.title('Distribution of Occupation Types')\n",
    "\n",
    "plt.xlabel('Occupation Type')\n",
    "plt.ylabel('Count')\n",
    "\n",
    "plt.show()\n",
    "\n",
    "print(OCCUPATION_TYPE_CONVERSION,\"\\n\")\n",
    "print(\"There are high varieties of Occupation types in our dataset\")"
   ]
  },
  {
   "cell_type": "code",
   "execution_count": null,
   "id": "6f29471e",
   "metadata": {},
   "outputs": [],
   "source": [
    "occupation_skew = skew(merged_df['OCCUPATION_TYPE'])\n",
    "print(occupation_skew)\n",
    "print(\"The skewness value is negative for occupation type. \\nThis indicates that the distribution of data is negatively skewed, with a long tail towards the left. This means that the majority of the data is concentrated towards the right side of the distribution\")"
   ]
  },
  {
   "cell_type": "code",
   "execution_count": null,
   "id": "bdc8dff6",
   "metadata": {},
   "outputs": [],
   "source": []
  },
  {
   "cell_type": "markdown",
   "id": "397d3eb0",
   "metadata": {},
   "source": [
    "### 8. PIE Chart to find proportion of applicants"
   ]
  },
  {
   "cell_type": "code",
   "execution_count": null,
   "id": "a356189f",
   "metadata": {},
   "outputs": [],
   "source": [
    "colors = ['gold', 'yellowgreen', 'lightcoral', 'lightskyblue', 'orange']\n",
    "\n",
    "plt.pie(merged_df['NAME_FAMILY_STATUS'].value_counts(), labels=merged_df['NAME_FAMILY_STATUS'].unique(), colors=colors, autopct='%1.1f%%')\n",
    "\n",
    "plt.title('Distribution of Family Status')\n",
    "plt.show()\n",
    "print(\"Around 70% of our applicatns are married\")"
   ]
  },
  {
   "cell_type": "code",
   "execution_count": null,
   "id": "6f32ccb9",
   "metadata": {},
   "outputs": [],
   "source": [
    "colors = ['blue', 'red', 'skyblue', 'violet', 'green']\n",
    "\n",
    "plt.pie(merged_df['NAME_HOUSING_TYPE'].value_counts(), labels=merged_df['NAME_HOUSING_TYPE'].unique(), colors=colors, autopct='%1.1f%%')\n",
    "\n",
    "plt.title('Distribution of Hosuing types')\n",
    "plt.show()\n",
    "print(NAME_HOUSING_TYPE_CONVERSION)\n",
    "print(\"Around 90% of our applicatns are living in rented houses\")"
   ]
  },
  {
   "cell_type": "code",
   "execution_count": null,
   "id": "4965e3c8",
   "metadata": {},
   "outputs": [],
   "source": [
    "colors = ['Yellow', 'red', 'Black', 'violet', 'green','blue']\n",
    "\n",
    "plt.pie(merged_df['CNT_FAM_MEMBERS'].value_counts(), labels=merged_df['CNT_FAM_MEMBERS'].unique(), colors=colors, autopct='%1.1f%%')\n",
    "\n",
    "plt.title('Distribution of Hosuing types')\n",
    "plt.show()\n",
    "\n",
    "print(\"Around 54% of our applicatns are having 2 children\")"
   ]
  },
  {
   "cell_type": "markdown",
   "id": "67201153",
   "metadata": {},
   "source": [
    "### 9. Line Graph to see the impact of one column on the other"
   ]
  },
  {
   "cell_type": "code",
   "execution_count": null,
   "id": "b74f7bbe",
   "metadata": {},
   "outputs": [],
   "source": [
    "x = merged_df['CREDIT_APPROVAL_STATUS']\n",
    "y = merged_df['AGE']\n",
    "plt.plot(x, y)\n",
    "\n",
    "# Add title and labels\n",
    "plt.title('AGE vs. CREDIT_APPROVAL_STATUS')\n",
    "plt.xlabel('CREDIT_APPROVAL_STATUS')\n",
    "plt.ylabel('Age')\n",
    "\n",
    "plt.show()\n",
    "\n",
    "print(\"Approval is not that much impacted by age\")"
   ]
  },
  {
   "cell_type": "code",
   "execution_count": null,
   "id": "9ed983a2",
   "metadata": {},
   "outputs": [],
   "source": [
    "x = merged_df['CREDIT_APPROVAL_STATUS']\n",
    "y = merged_df['TOTAL_EXPERIENCE']\n",
    "plt.plot(x, y)\n",
    "\n",
    "# Add title and labels\n",
    "plt.title('Experience vs. CREDIT_APPROVAL_STATUS')\n",
    "plt.xlabel('Experience')\n",
    "plt.ylabel('CREDIT_APPROVAL_STATUS')\n",
    "\n",
    "plt.show()\n",
    "\n",
    "print(\"With increase in experience the approval had impact and people with more experience mostly got approval\")"
   ]
  },
  {
   "cell_type": "markdown",
   "id": "8cc50190",
   "metadata": {},
   "source": [
    "### 10. Violin graph to visualize distribution of numerical data across various categories"
   ]
  },
  {
   "cell_type": "code",
   "execution_count": null,
   "id": "b4f737a8",
   "metadata": {},
   "outputs": [],
   "source": [
    "sns.violinplot(x='NAME_EDUCATION_TYPE', y='AMT_INCOME_TOTAL', data=merged_df)\n",
    "\n",
    "print(NAME_EDUCATION_TYPE_CONVERSION)\n",
    "print(\"\\n \\nThe applicants who have registered and not capable of completing higher have more salaries compared with other categories\")"
   ]
  },
  {
   "cell_type": "markdown",
   "id": "ce776c4d",
   "metadata": {},
   "source": [
    "## Phase 2"
   ]
  },
  {
   "cell_type": "code",
   "execution_count": null,
   "id": "d10b4ec1",
   "metadata": {},
   "outputs": [],
   "source": [
    "merged_df.columns"
   ]
  },
  {
   "cell_type": "markdown",
   "id": "58b79aa3",
   "metadata": {},
   "source": [
    "### Normalizing the data for all numerical columns"
   ]
  },
  {
   "cell_type": "code",
   "execution_count": null,
   "id": "6aa6968f",
   "metadata": {},
   "outputs": [],
   "source": [
    "from sklearn.preprocessing import StandardScaler\n",
    "\n",
    "# Scaling numerical columns\n",
    "numerical_cols = ['CNT_CHILDREN', 'AMT_INCOME_TOTAL', 'DAYS_BIRTH', \n",
    "                  'DAYS_EMPLOYED', 'CNT_FAM_MEMBERS', 'AGE', 'TOTAL_EXPERIENCE']\n",
    "scaler = StandardScaler()\n",
    "merged_df[numerical_cols] = scaler.fit_transform(merged_df[numerical_cols])"
   ]
  },
  {
   "cell_type": "markdown",
   "id": "0dac422e",
   "metadata": {},
   "source": [
    "### Importing all the required libraries for regression and plotting"
   ]
  },
  {
   "cell_type": "code",
   "execution_count": null,
   "id": "b669a424",
   "metadata": {},
   "outputs": [],
   "source": [
    "import matplotlib.pyplot as plt\n",
    "import seaborn as sns\n",
    "\n",
    "from sklearn import metrics\n",
    "from sklearn.ensemble import RandomForestClassifier, GradientBoostingClassifier\n",
    "from sklearn.linear_model import LogisticRegression\n",
    "from sklearn.model_selection import train_test_split\n",
    "from sklearn.metrics import accuracy_score, precision_score,recall_score\n",
    "from sklearn.metrics import confusion_matrix, classification_report, PrecisionRecallDisplay, RocCurveDisplay\n",
    "from sklearn.neural_network import MLPClassifier\n",
    "from sklearn.svm import SVC\n",
    "from sklearn.tree import DecisionTreeClassifier"
   ]
  },
  {
   "cell_type": "code",
   "execution_count": null,
   "id": "fcb875c6",
   "metadata": {},
   "outputs": [],
   "source": [
    "X_train, X_test, y_train, y_test = train_test_split(merged_df.drop(columns=['ID','CREDIT_APPROVAL_STATUS'])\n",
    "                                                    , merged_df['CREDIT_APPROVAL_STATUS']\n",
    "                                                    , test_size=0.20\n",
    "                                                    , random_state=90)"
   ]
  },
  {
   "cell_type": "code",
   "execution_count": null,
   "id": "d987d095",
   "metadata": {},
   "outputs": [],
   "source": [
    "accuracies = {}"
   ]
  },
  {
   "cell_type": "markdown",
   "id": "df074c0e",
   "metadata": {},
   "source": [
    "### Logistic Regression"
   ]
  },
  {
   "cell_type": "code",
   "execution_count": null,
   "id": "64c4db02",
   "metadata": {},
   "outputs": [],
   "source": [
    "logit = LogisticRegression(max_iter=10000).fit(X_train, y_train)"
   ]
  },
  {
   "cell_type": "code",
   "execution_count": null,
   "id": "9abd1582",
   "metadata": {},
   "outputs": [],
   "source": [
    "logit.predict(X_test)"
   ]
  },
  {
   "cell_type": "code",
   "execution_count": null,
   "id": "422a6613",
   "metadata": {},
   "outputs": [],
   "source": [
    "y_pred = logit.predict(X_test)\n",
    "score = accuracy_score(y_test, y_pred)"
   ]
  },
  {
   "cell_type": "code",
   "execution_count": null,
   "id": "cbb0df0f",
   "metadata": {},
   "outputs": [],
   "source": [
    "accuracies.update({'Logistic Regression':score})\n",
    "print(accuracies['Logistic Regression'])"
   ]
  },
  {
   "cell_type": "markdown",
   "id": "4e43ad77",
   "metadata": {},
   "source": [
    "#### Creating a confusion matrix"
   ]
  },
  {
   "cell_type": "code",
   "execution_count": null,
   "id": "ae1928d5",
   "metadata": {},
   "outputs": [],
   "source": [
    "\n",
    "# Compute confusion matrix\n",
    "cm = confusion_matrix(y_test, y_pred)\n",
    "tn, fp, fn, tp = cm.ravel()\n",
    "\n",
    "# Plot confusion matrix as heatmap\n",
    "labels = ['Negative', 'Positive']\n",
    "sns.heatmap(cm, annot=True, cmap='Blues', xticklabels=labels, yticklabels=labels, fmt='d')\n",
    "plt.title('Confusion Matrix')\n",
    "plt.xlabel('Predicted Label')\n",
    "plt.ylabel('True Label')\n",
    "plt.show()\n"
   ]
  },
  {
   "cell_type": "markdown",
   "id": "64f0a019",
   "metadata": {},
   "source": [
    "#### Precision-recall Graph\n",
    "#### precision measuring the accuracy of positive predictions\n",
    "#### recall measures the completeness of positive predictions"
   ]
  },
  {
   "cell_type": "code",
   "execution_count": null,
   "id": "e510b3ed",
   "metadata": {},
   "outputs": [],
   "source": [
    "#calculating precision and reall\n",
    "precision = precision_score(y_test, y_pred)\n",
    "recall = recall_score(y_test, y_pred)\n",
    " \n",
    "print('Precision: ',precision)\n",
    "print('Recall: ',recall)\n",
    " \n",
    "#Plotting Precision-Recall Curve\n",
    "disp = PrecisionRecallDisplay.from_predictions(y_test, y_pred)"
   ]
  },
  {
   "cell_type": "markdown",
   "id": "8919f916",
   "metadata": {},
   "source": [
    "#### Pairplot"
   ]
  },
  {
   "cell_type": "code",
   "execution_count": null,
   "id": "90bfb5f8",
   "metadata": {},
   "outputs": [],
   "source": [
    "graph_df = pd.DataFrame({'y_pred': y_pred, 'y_test': y_test})\n",
    "sns.pairplot(graph_df)"
   ]
  },
  {
   "cell_type": "markdown",
   "id": "9ca0fec0",
   "metadata": {},
   "source": [
    "#### Creating a classification report to compare y_test and y_pred"
   ]
  },
  {
   "cell_type": "code",
   "execution_count": null,
   "id": "809e847f",
   "metadata": {},
   "outputs": [],
   "source": [
    "print(classification_report(y_test, y_pred, zero_division=1))"
   ]
  },
  {
   "cell_type": "markdown",
   "id": "69015b64",
   "metadata": {},
   "source": [
    "#### auc - roc_curve "
   ]
  },
  {
   "cell_type": "code",
   "execution_count": null,
   "id": "0dc62fed",
   "metadata": {},
   "outputs": [],
   "source": [
    "y_pred = logit.predict_proba(X_test)[:, 1]\n",
    "roc_display = RocCurveDisplay.from_predictions(y_test, y_pred)"
   ]
  },
  {
   "cell_type": "markdown",
   "id": "00da8624",
   "metadata": {},
   "source": [
    "### Decision Trees"
   ]
  },
  {
   "cell_type": "code",
   "execution_count": null,
   "id": "fec616be",
   "metadata": {},
   "outputs": [],
   "source": [
    "tree = DecisionTreeClassifier()"
   ]
  },
  {
   "cell_type": "code",
   "execution_count": null,
   "id": "a0e8fb12",
   "metadata": {},
   "outputs": [],
   "source": [
    "tree.fit(X_train, y_train)"
   ]
  },
  {
   "cell_type": "code",
   "execution_count": null,
   "id": "525bce99",
   "metadata": {},
   "outputs": [],
   "source": [
    "y_pred = tree.predict(X_test)"
   ]
  },
  {
   "cell_type": "code",
   "execution_count": null,
   "id": "1641a416",
   "metadata": {},
   "outputs": [],
   "source": [
    "score = accuracy_score(y_test, y_pred)\n",
    "accuracies.update({'DecisionTreeClassifier':score})\n",
    "print(accuracies['DecisionTreeClassifier'])"
   ]
  },
  {
   "cell_type": "markdown",
   "id": "e9fe2bde",
   "metadata": {},
   "source": [
    "#### Creating a confusion matrix"
   ]
  },
  {
   "cell_type": "code",
   "execution_count": null,
   "id": "ddd88bfa",
   "metadata": {},
   "outputs": [],
   "source": [
    "# Compute confusion matrix\n",
    "cm = confusion_matrix(y_test, y_pred)\n",
    "tn, fp, fn, tp = cm.ravel()\n",
    "\n",
    "# Plot confusion matrix as heatmap\n",
    "labels = ['Negative', 'Positive']\n",
    "sns.heatmap(cm, annot=True, cmap='Blues', xticklabels=labels, yticklabels=labels, fmt='d')\n",
    "plt.title('Confusion Matrix')\n",
    "plt.xlabel('Predicted Label')\n",
    "plt.ylabel('True Label')\n",
    "plt.show()"
   ]
  },
  {
   "cell_type": "markdown",
   "id": "584730c2",
   "metadata": {},
   "source": [
    "#### Precision-recall Graph\n",
    "#### precision measuring the accuracy of positive predictions\n",
    "#### recall measures the completeness of positive predictions"
   ]
  },
  {
   "cell_type": "code",
   "execution_count": null,
   "id": "82191ee9",
   "metadata": {},
   "outputs": [],
   "source": [
    "#calculating precision and reall\n",
    "precision = precision_score(y_test, y_pred)\n",
    "recall = recall_score(y_test, y_pred)\n",
    " \n",
    "print('Precision: ',precision)\n",
    "print('Recall: ',recall)\n",
    " \n",
    "#Plotting Precision-Recall Curve\n",
    "disp = PrecisionRecallDisplay.from_predictions(y_test, y_pred)"
   ]
  },
  {
   "cell_type": "markdown",
   "id": "37f0b347",
   "metadata": {},
   "source": [
    "#### Pairplot"
   ]
  },
  {
   "cell_type": "code",
   "execution_count": null,
   "id": "1464cc80",
   "metadata": {},
   "outputs": [],
   "source": [
    "graph_df = pd.DataFrame({'y_pred': y_pred, 'y_test': y_test})\n",
    "sns.pairplot(graph_df)"
   ]
  },
  {
   "cell_type": "markdown",
   "id": "de606c86",
   "metadata": {},
   "source": [
    "#### Creating a classification report to compare y_test and y_pred"
   ]
  },
  {
   "cell_type": "code",
   "execution_count": null,
   "id": "8c4cbec4",
   "metadata": {},
   "outputs": [],
   "source": [
    "print(classification_report(y_test, y_pred, zero_division=1))"
   ]
  },
  {
   "cell_type": "markdown",
   "id": "b8247c96",
   "metadata": {},
   "source": [
    "#### auc - roc_curve"
   ]
  },
  {
   "cell_type": "code",
   "execution_count": null,
   "id": "4a3b8a12",
   "metadata": {},
   "outputs": [],
   "source": [
    "y_pred = tree.predict_proba(X_test)[:, 1]\n",
    "roc_display = RocCurveDisplay.from_predictions(y_test, y_pred)"
   ]
  },
  {
   "cell_type": "markdown",
   "id": "d07233b3",
   "metadata": {},
   "source": [
    "### Support vector machine"
   ]
  },
  {
   "cell_type": "code",
   "execution_count": null,
   "id": "e5de2182",
   "metadata": {},
   "outputs": [],
   "source": [
    "svm = SVC(kernel='linear', probability=True)"
   ]
  },
  {
   "cell_type": "code",
   "execution_count": null,
   "id": "bee9a966",
   "metadata": {},
   "outputs": [],
   "source": [
    "svm.fit(X_train, y_train)"
   ]
  },
  {
   "cell_type": "code",
   "execution_count": null,
   "id": "a2f7bb29",
   "metadata": {},
   "outputs": [],
   "source": [
    "y_pred = svm.predict(X_test)"
   ]
  },
  {
   "cell_type": "code",
   "execution_count": null,
   "id": "f22c27c2",
   "metadata": {},
   "outputs": [],
   "source": [
    "score = accuracy_score(y_test, y_pred)\n",
    "accuracies.update({'Support Vector Machine':score})\n",
    "print(accuracies['Support Vector Machine'])"
   ]
  },
  {
   "cell_type": "markdown",
   "id": "3c7c89fa",
   "metadata": {},
   "source": [
    "#### Creating a confusion matrix"
   ]
  },
  {
   "cell_type": "code",
   "execution_count": null,
   "id": "0e26aaf6",
   "metadata": {
    "scrolled": true
   },
   "outputs": [],
   "source": [
    "# Compute confusion matrix\n",
    "cm = confusion_matrix(y_test, y_pred)\n",
    "tn, fp, fn, tp = cm.ravel()\n",
    "\n",
    "# Plot confusion matrix as heatmap\n",
    "labels = ['Negative', 'Positive']\n",
    "sns.heatmap(cm, annot=True, cmap='Blues', xticklabels=labels, yticklabels=labels, fmt='d')\n",
    "plt.title('Confusion Matrix')\n",
    "plt.xlabel('Predicted Label')\n",
    "plt.ylabel('True Label')\n",
    "plt.show()"
   ]
  },
  {
   "cell_type": "markdown",
   "id": "176084e9",
   "metadata": {},
   "source": [
    "#### Precision-recall Graph\n",
    "#### Precision measuring the accuracy of positive predictions\n",
    "#### Recall measures the completeness of positive predictions"
   ]
  },
  {
   "cell_type": "code",
   "execution_count": null,
   "id": "66eb23d0",
   "metadata": {},
   "outputs": [],
   "source": [
    "#calculating precision and reall\n",
    "precision = precision_score(y_test, y_pred)\n",
    "recall = recall_score(y_test, y_pred)\n",
    " \n",
    "print('Precision: ',precision)\n",
    "print('Recall: ',recall)\n",
    " \n",
    "#Plotting Precision-Recall Curve\n",
    "disp = PrecisionRecallDisplay.from_predictions(y_test, y_pred)"
   ]
  },
  {
   "cell_type": "markdown",
   "id": "b6284ca8",
   "metadata": {},
   "source": [
    "#### Pairplot"
   ]
  },
  {
   "cell_type": "code",
   "execution_count": null,
   "id": "b06a055c",
   "metadata": {},
   "outputs": [],
   "source": [
    "graph_df = pd.DataFrame({'y_pred': y_pred, 'y_test': y_test})\n",
    "sns.pairplot(graph_df)"
   ]
  },
  {
   "cell_type": "markdown",
   "id": "870f2703",
   "metadata": {},
   "source": [
    "#### Creating a classification report to compare y_test and y_pred"
   ]
  },
  {
   "cell_type": "code",
   "execution_count": null,
   "id": "25d006aa",
   "metadata": {},
   "outputs": [],
   "source": [
    "print(classification_report(y_test, y_pred, zero_division=1))"
   ]
  },
  {
   "cell_type": "markdown",
   "id": "5495af21",
   "metadata": {},
   "source": [
    "#### auc - roc_curve"
   ]
  },
  {
   "cell_type": "code",
   "execution_count": null,
   "id": "c4a57ef3",
   "metadata": {},
   "outputs": [],
   "source": [
    "y_pred = svm.predict_proba(X_test)[:, 1]\n",
    "roc_display = RocCurveDisplay.from_predictions(y_test, y_pred)"
   ]
  },
  {
   "cell_type": "markdown",
   "id": "5e8c47ef",
   "metadata": {},
   "source": [
    "### Random Forest"
   ]
  },
  {
   "cell_type": "code",
   "execution_count": null,
   "id": "b111caaf",
   "metadata": {},
   "outputs": [],
   "source": [
    "rfc = RandomForestClassifier()"
   ]
  },
  {
   "cell_type": "code",
   "execution_count": null,
   "id": "1a807b35",
   "metadata": {},
   "outputs": [],
   "source": [
    "rfc.fit(X_train, y_train)"
   ]
  },
  {
   "cell_type": "code",
   "execution_count": null,
   "id": "5efa5c3f",
   "metadata": {},
   "outputs": [],
   "source": [
    "y_pred = rfc.predict(X_test)"
   ]
  },
  {
   "cell_type": "code",
   "execution_count": null,
   "id": "2292849f",
   "metadata": {},
   "outputs": [],
   "source": [
    "score = accuracy_score(y_test, y_pred)\n",
    "accuracies.update({'RandomForestClassifier':score})\n",
    "print(accuracies['RandomForestClassifier'])"
   ]
  },
  {
   "cell_type": "markdown",
   "id": "fc4499e2",
   "metadata": {},
   "source": [
    "#### Creating a confusion matrix"
   ]
  },
  {
   "cell_type": "code",
   "execution_count": null,
   "id": "43425fba",
   "metadata": {},
   "outputs": [],
   "source": [
    "# Compute confusion matrix\n",
    "cm = confusion_matrix(y_test, y_pred)\n",
    "tn, fp, fn, tp = cm.ravel()\n",
    "\n",
    "# Plot confusion matrix as heatmap\n",
    "labels = ['Negative', 'Positive']\n",
    "sns.heatmap(cm, annot=True, cmap='Blues', xticklabels=labels, yticklabels=labels, fmt='d')\n",
    "plt.title('Confusion Matrix')\n",
    "plt.xlabel('Predicted Label')\n",
    "plt.ylabel('True Label')\n",
    "plt.show()"
   ]
  },
  {
   "cell_type": "markdown",
   "id": "b7a20f30",
   "metadata": {},
   "source": [
    "#### Precision-recall Graph\n",
    "#### Precision measuring the accuracy of positive predictions\n",
    "#### Recall measures the completeness of positive predictions"
   ]
  },
  {
   "cell_type": "code",
   "execution_count": null,
   "id": "916e6cbd",
   "metadata": {},
   "outputs": [],
   "source": [
    "#calculating precision and reall\n",
    "precision = precision_score(y_test, y_pred)\n",
    "recall = recall_score(y_test, y_pred)\n",
    " \n",
    "print('Precision: ',precision)\n",
    "print('Recall: ',recall)\n",
    " \n",
    "#Plotting Precision-Recall Curve\n",
    "disp = PrecisionRecallDisplay.from_predictions(y_test, y_pred)"
   ]
  },
  {
   "cell_type": "markdown",
   "id": "54d703aa",
   "metadata": {},
   "source": [
    "#### Pairplot"
   ]
  },
  {
   "cell_type": "code",
   "execution_count": null,
   "id": "913a5e62",
   "metadata": {},
   "outputs": [],
   "source": [
    "\n",
    "graph_df = pd.DataFrame({'y_pred': y_pred, 'y_test': y_test})\n",
    "sns.pairplot(graph_df)"
   ]
  },
  {
   "cell_type": "markdown",
   "id": "66223f1b",
   "metadata": {},
   "source": [
    "#### Creating a classification report to compare y_test and y_pred"
   ]
  },
  {
   "cell_type": "code",
   "execution_count": null,
   "id": "43678d60",
   "metadata": {
    "scrolled": true
   },
   "outputs": [],
   "source": [
    "print(classification_report(y_test, y_pred, zero_division=1))"
   ]
  },
  {
   "cell_type": "markdown",
   "id": "2eea6669",
   "metadata": {},
   "source": [
    "#### auc - roc_curve"
   ]
  },
  {
   "cell_type": "code",
   "execution_count": null,
   "id": "7b1bd38b",
   "metadata": {},
   "outputs": [],
   "source": [
    "y_pred = rfc.predict_proba(X_test)[:, 1]\n",
    "roc_display = RocCurveDisplay.from_predictions(y_test, y_pred)"
   ]
  },
  {
   "cell_type": "markdown",
   "id": "5a9371ca",
   "metadata": {},
   "source": [
    "### Gradient Boosting Machines (GBM)"
   ]
  },
  {
   "cell_type": "code",
   "execution_count": null,
   "id": "8a093367",
   "metadata": {},
   "outputs": [],
   "source": [
    "gb = GradientBoostingClassifier()"
   ]
  },
  {
   "cell_type": "code",
   "execution_count": null,
   "id": "9a89896b",
   "metadata": {},
   "outputs": [],
   "source": [
    "gb.fit(X_train, y_train)"
   ]
  },
  {
   "cell_type": "code",
   "execution_count": null,
   "id": "20ddd3d2",
   "metadata": {},
   "outputs": [],
   "source": [
    "y_pred = gb.predict(X_test)"
   ]
  },
  {
   "cell_type": "code",
   "execution_count": null,
   "id": "d5f297cc",
   "metadata": {},
   "outputs": [],
   "source": [
    "score = accuracy_score(y_test, y_pred)\n",
    "accuracies.update({'Gradient Boosting Machine':score})\n",
    "print(accuracies['Gradient Boosting Machine'])"
   ]
  },
  {
   "cell_type": "markdown",
   "id": "419a304f",
   "metadata": {},
   "source": [
    "#### Creating a confusion matrix"
   ]
  },
  {
   "cell_type": "code",
   "execution_count": null,
   "id": "6813d036",
   "metadata": {},
   "outputs": [],
   "source": [
    "# Compute confusion matrix\n",
    "cm = confusion_matrix(y_test, y_pred)\n",
    "tn, fp, fn, tp = cm.ravel()\n",
    "\n",
    "# Plot confusion matrix as heatmap\n",
    "labels = ['Negative', 'Positive']\n",
    "sns.heatmap(cm, annot=True, cmap='Blues', xticklabels=labels, yticklabels=labels, fmt='d')\n",
    "plt.title('Confusion Matrix')\n",
    "plt.xlabel('Predicted Label')\n",
    "plt.ylabel('True Label')\n",
    "plt.show()"
   ]
  },
  {
   "cell_type": "markdown",
   "id": "73b2fa1a",
   "metadata": {},
   "source": [
    "#### Precision-recall Graph\n",
    "#### Precision measuring the accuracy of positive predictions\n",
    "#### Recall measures the completeness of positive predictions"
   ]
  },
  {
   "cell_type": "code",
   "execution_count": null,
   "id": "135ebefa",
   "metadata": {},
   "outputs": [],
   "source": [
    "#calculating precision and reall\n",
    "precision = precision_score(y_test, y_pred)\n",
    "recall = recall_score(y_test, y_pred)\n",
    " \n",
    "print('Precision: ',precision)\n",
    "print('Recall: ',recall)\n",
    " \n",
    "#Plotting Precision-Recall Curve\n",
    "disp = PrecisionRecallDisplay.from_predictions(y_test, y_pred)"
   ]
  },
  {
   "cell_type": "markdown",
   "id": "1906c92b",
   "metadata": {},
   "source": [
    "#### Pairplot"
   ]
  },
  {
   "cell_type": "code",
   "execution_count": null,
   "id": "453dffa7",
   "metadata": {},
   "outputs": [],
   "source": [
    "graph_df = pd.DataFrame({'y_pred': y_pred, 'y_test': y_test})\n",
    "sns.pairplot(graph_df)"
   ]
  },
  {
   "cell_type": "markdown",
   "id": "82ac1377",
   "metadata": {},
   "source": [
    "#### Creating a classification report to compare y_test and y_pred"
   ]
  },
  {
   "cell_type": "code",
   "execution_count": null,
   "id": "f3af2705",
   "metadata": {
    "scrolled": true
   },
   "outputs": [],
   "source": [
    "print(classification_report(y_test, y_pred, zero_division=1))"
   ]
  },
  {
   "cell_type": "markdown",
   "id": "3f6a8a3a",
   "metadata": {},
   "source": [
    "#### auc - roc_curve "
   ]
  },
  {
   "cell_type": "code",
   "execution_count": null,
   "id": "02a3589c",
   "metadata": {},
   "outputs": [],
   "source": [
    "y_pred = gb.predict_proba(X_test)[:, 1]\n",
    "roc_display = RocCurveDisplay.from_predictions(y_test, y_pred)"
   ]
  },
  {
   "cell_type": "code",
   "execution_count": null,
   "id": "e74b95a8",
   "metadata": {},
   "outputs": [],
   "source": [
    "accuracies"
   ]
  }
 ],
 "metadata": {
  "kernelspec": {
   "display_name": "Python 3 (ipykernel)",
   "language": "python",
   "name": "python3"
  },
  "language_info": {
   "codemirror_mode": {
    "name": "ipython",
    "version": 3
   },
   "file_extension": ".py",
   "mimetype": "text/x-python",
   "name": "python",
   "nbconvert_exporter": "python",
   "pygments_lexer": "ipython3",
   "version": "3.9.12"
  }
 },
 "nbformat": 4,
 "nbformat_minor": 5
}
